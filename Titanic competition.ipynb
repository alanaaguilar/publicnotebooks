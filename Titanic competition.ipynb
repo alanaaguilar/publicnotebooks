{
 "cells": [
  {
   "cell_type": "markdown",
   "metadata": {},
   "source": [
    "# 1. Importando as bibliotecas"
   ]
  },
  {
   "cell_type": "code",
   "execution_count": 55,
   "metadata": {},
   "outputs": [],
   "source": [
    "import pandas as pd\n",
    "import numpy as np\n",
    "import matplotlib.pyplot as plt\n",
    "import seaborn as sns\n",
    "import statsmodels.formula.api as smf\n",
    "import re\n",
    "from sklearn.preprocessing import StandardScaler\n",
    "from sklearn import preprocessing\n",
    "from sklearn.model_selection import train_test_split\n",
    "from sklearn.tree import (DecisionTreeClassifier, plot_tree)\n",
    "from sklearn.linear_model import LogisticRegression\n",
    "from sklearn.svm import LinearSVC, SVC\n",
    "from sklearn.ensemble import AdaBoostClassifier\n",
    "from sklearn.ensemble import RandomForestClassifier\n",
    "from sklearn import metrics\n",
    "from sklearn.neighbors import KNeighborsClassifier\n",
    "from sklearn.metrics import classification_report, confusion_matrix\n",
    "from sklearn.pipeline import Pipeline\n",
    "from sklearn.decomposition import PCA\n",
    "from sklearn.pipeline import make_pipeline\n",
    "from sklearn.model_selection import StratifiedKFold\n",
    "from sklearn.model_selection import GridSearchCV\n",
    "from sklearn.model_selection import cross_val_score\n",
    "from sklearn.decomposition import PCA\n",
    "from sklearn.ensemble import BaggingClassifier\n",
    "from sklearn.ensemble import StackingClassifier"
   ]
  },
  {
   "cell_type": "markdown",
   "metadata": {},
   "source": [
    "# 2. Lendo os dados "
   ]
  },
  {
   "cell_type": "code",
   "execution_count": 56,
   "metadata": {},
   "outputs": [],
   "source": [
    # os datasets estão disponíveis em: https://www.kaggle.com/c/titanic/data
    "df_train = pd.read_csv('train.csv')\n",
    "df_test = pd.read_csv('test.csv')"
   ]
  },
  {
   "cell_type": "markdown",
   "metadata": {},
   "source": [
    "# 3. Explorando o dataset de treino"
   ]
  },
  {
   "cell_type": "code",
   "execution_count": 57,
   "metadata": {},
   "outputs": [
    {
     "data": {
      "text/html": [
       "<div>\n",
       "<style scoped>\n",
       "    .dataframe tbody tr th:only-of-type {\n",
       "        vertical-align: middle;\n",
       "    }\n",
       "\n",
       "    .dataframe tbody tr th {\n",
       "        vertical-align: top;\n",
       "    }\n",
       "\n",
       "    .dataframe thead th {\n",
       "        text-align: right;\n",
       "    }\n",
       "</style>\n",
       "<table border=\"1\" class=\"dataframe\">\n",
       "  <thead>\n",
       "    <tr style=\"text-align: right;\">\n",
       "      <th></th>\n",
       "      <th>PassengerId</th>\n",
       "      <th>Survived</th>\n",
       "      <th>Pclass</th>\n",
       "      <th>Name</th>\n",
       "      <th>Sex</th>\n",
       "      <th>Age</th>\n",
       "      <th>SibSp</th>\n",
       "      <th>Parch</th>\n",
       "      <th>Ticket</th>\n",
       "      <th>Fare</th>\n",
       "      <th>Cabin</th>\n",
       "      <th>Embarked</th>\n",
       "    </tr>\n",
       "  </thead>\n",
       "  <tbody>\n",
       "    <tr>\n",
       "      <th>0</th>\n",
       "      <td>1</td>\n",
       "      <td>0</td>\n",
       "      <td>3</td>\n",
       "      <td>Braund, Mr. Owen Harris</td>\n",
       "      <td>male</td>\n",
       "      <td>22.0</td>\n",
       "      <td>1</td>\n",
       "      <td>0</td>\n",
       "      <td>A/5 21171</td>\n",
       "      <td>7.2500</td>\n",
       "      <td>NaN</td>\n",
       "      <td>S</td>\n",
       "    </tr>\n",
       "    <tr>\n",
       "      <th>1</th>\n",
       "      <td>2</td>\n",
       "      <td>1</td>\n",
       "      <td>1</td>\n",
       "      <td>Cumings, Mrs. John Bradley (Florence Briggs Th...</td>\n",
       "      <td>female</td>\n",
       "      <td>38.0</td>\n",
       "      <td>1</td>\n",
       "      <td>0</td>\n",
       "      <td>PC 17599</td>\n",
       "      <td>71.2833</td>\n",
       "      <td>C85</td>\n",
       "      <td>C</td>\n",
       "    </tr>\n",
       "    <tr>\n",
       "      <th>2</th>\n",
       "      <td>3</td>\n",
       "      <td>1</td>\n",
       "      <td>3</td>\n",
       "      <td>Heikkinen, Miss. Laina</td>\n",
       "      <td>female</td>\n",
       "      <td>26.0</td>\n",
       "      <td>0</td>\n",
       "      <td>0</td>\n",
       "      <td>STON/O2. 3101282</td>\n",
       "      <td>7.9250</td>\n",
       "      <td>NaN</td>\n",
       "      <td>S</td>\n",
       "    </tr>\n",
       "    <tr>\n",
       "      <th>3</th>\n",
       "      <td>4</td>\n",
       "      <td>1</td>\n",
       "      <td>1</td>\n",
       "      <td>Futrelle, Mrs. Jacques Heath (Lily May Peel)</td>\n",
       "      <td>female</td>\n",
       "      <td>35.0</td>\n",
       "      <td>1</td>\n",
       "      <td>0</td>\n",
       "      <td>113803</td>\n",
       "      <td>53.1000</td>\n",
       "      <td>C123</td>\n",
       "      <td>S</td>\n",
       "    </tr>\n",
       "    <tr>\n",
       "      <th>4</th>\n",
       "      <td>5</td>\n",
       "      <td>0</td>\n",
       "      <td>3</td>\n",
       "      <td>Allen, Mr. William Henry</td>\n",
       "      <td>male</td>\n",
       "      <td>35.0</td>\n",
       "      <td>0</td>\n",
       "      <td>0</td>\n",
       "      <td>373450</td>\n",
       "      <td>8.0500</td>\n",
       "      <td>NaN</td>\n",
       "      <td>S</td>\n",
       "    </tr>\n",
       "  </tbody>\n",
       "</table>\n",
       "</div>"
      ],
      "text/plain": [
       "   PassengerId  Survived  Pclass  \\\n",
       "0            1         0       3   \n",
       "1            2         1       1   \n",
       "2            3         1       3   \n",
       "3            4         1       1   \n",
       "4            5         0       3   \n",
       "\n",
       "                                                Name     Sex   Age  SibSp  \\\n",
       "0                            Braund, Mr. Owen Harris    male  22.0      1   \n",
       "1  Cumings, Mrs. John Bradley (Florence Briggs Th...  female  38.0      1   \n",
       "2                             Heikkinen, Miss. Laina  female  26.0      0   \n",
       "3       Futrelle, Mrs. Jacques Heath (Lily May Peel)  female  35.0      1   \n",
       "4                           Allen, Mr. William Henry    male  35.0      0   \n",
       "\n",
       "   Parch            Ticket     Fare Cabin Embarked  \n",
       "0      0         A/5 21171   7.2500   NaN        S  \n",
       "1      0          PC 17599  71.2833   C85        C  \n",
       "2      0  STON/O2. 3101282   7.9250   NaN        S  \n",
       "3      0            113803  53.1000  C123        S  \n",
       "4      0            373450   8.0500   NaN        S  "
      ]
     },
     "execution_count": 57,
     "metadata": {},
     "output_type": "execute_result"
    }
   ],
   "source": [
    "df_train.head()"
   ]
  },
  {
   "cell_type": "code",
   "execution_count": 58,
   "metadata": {},
   "outputs": [
    {
     "name": "stdout",
     "output_type": "stream",
     "text": [
      "<class 'pandas.core.frame.DataFrame'>\n",
      "RangeIndex: 891 entries, 0 to 890\n",
      "Data columns (total 12 columns):\n",
      " #   Column       Non-Null Count  Dtype  \n",
      "---  ------       --------------  -----  \n",
      " 0   PassengerId  891 non-null    int64  \n",
      " 1   Survived     891 non-null    int64  \n",
      " 2   Pclass       891 non-null    int64  \n",
      " 3   Name         891 non-null    object \n",
      " 4   Sex          891 non-null    object \n",
      " 5   Age          714 non-null    float64\n",
      " 6   SibSp        891 non-null    int64  \n",
      " 7   Parch        891 non-null    int64  \n",
      " 8   Ticket       891 non-null    object \n",
      " 9   Fare         891 non-null    float64\n",
      " 10  Cabin        204 non-null    object \n",
      " 11  Embarked     889 non-null    object \n",
      "dtypes: float64(2), int64(5), object(5)\n",
      "memory usage: 83.7+ KB\n"
     ]
    },
    {
     "data": {
      "text/plain": [
       "PassengerId          0\n",
       "Survived             0\n",
       "Pclass               0\n",
       "Name                 0\n",
       "Sex                  0\n",
       "Age                177\n",
       "SibSp                0\n",
       "Parch                0\n",
       "Ticket               0\n",
       "Fare                 0\n",
       "Cabin              687\n",
       "Embarked             2\n",
       "PassengerId      int64\n",
       "Survived         int64\n",
       "Pclass           int64\n",
       "Name            object\n",
       "Sex             object\n",
       "Age            float64\n",
       "SibSp            int64\n",
       "Parch            int64\n",
       "Ticket          object\n",
       "Fare           float64\n",
       "Cabin           object\n",
       "Embarked        object\n",
       "dtype: object"
      ]
     },
     "execution_count": 58,
     "metadata": {},
     "output_type": "execute_result"
    }
   ],
   "source": [
    "info1_train = df_train.info()\n",
    "info2_train = df_train.isna().sum()\n",
    "info3_train = df_train.dtypes\n",
    "\n",
    "info = pd.concat([info1_train, info2_train, info3_train])\n",
    "info"
   ]
  },
  {
   "cell_type": "code",
   "execution_count": 59,
   "metadata": {
    "scrolled": true
   },
   "outputs": [
    {
     "data": {
      "text/html": [
       "<div>\n",
       "<style scoped>\n",
       "    .dataframe tbody tr th:only-of-type {\n",
       "        vertical-align: middle;\n",
       "    }\n",
       "\n",
       "    .dataframe tbody tr th {\n",
       "        vertical-align: top;\n",
       "    }\n",
       "\n",
       "    .dataframe thead th {\n",
       "        text-align: right;\n",
       "    }\n",
       "</style>\n",
       "<table border=\"1\" class=\"dataframe\">\n",
       "  <thead>\n",
       "    <tr style=\"text-align: right;\">\n",
       "      <th></th>\n",
       "      <th>PassengerId</th>\n",
       "      <th>Survived</th>\n",
       "      <th>Pclass</th>\n",
       "      <th>Age</th>\n",
       "      <th>SibSp</th>\n",
       "      <th>Parch</th>\n",
       "      <th>Fare</th>\n",
       "    </tr>\n",
       "  </thead>\n",
       "  <tbody>\n",
       "    <tr>\n",
       "      <th>count</th>\n",
       "      <td>891.000000</td>\n",
       "      <td>891.000000</td>\n",
       "      <td>891.000000</td>\n",
       "      <td>714.000000</td>\n",
       "      <td>891.000000</td>\n",
       "      <td>891.000000</td>\n",
       "      <td>891.000000</td>\n",
       "    </tr>\n",
       "    <tr>\n",
       "      <th>mean</th>\n",
       "      <td>446.000000</td>\n",
       "      <td>0.383838</td>\n",
       "      <td>2.308642</td>\n",
       "      <td>29.699118</td>\n",
       "      <td>0.523008</td>\n",
       "      <td>0.381594</td>\n",
       "      <td>32.204208</td>\n",
       "    </tr>\n",
       "    <tr>\n",
       "      <th>std</th>\n",
       "      <td>257.353842</td>\n",
       "      <td>0.486592</td>\n",
       "      <td>0.836071</td>\n",
       "      <td>14.526497</td>\n",
       "      <td>1.102743</td>\n",
       "      <td>0.806057</td>\n",
       "      <td>49.693429</td>\n",
       "    </tr>\n",
       "    <tr>\n",
       "      <th>min</th>\n",
       "      <td>1.000000</td>\n",
       "      <td>0.000000</td>\n",
       "      <td>1.000000</td>\n",
       "      <td>0.420000</td>\n",
       "      <td>0.000000</td>\n",
       "      <td>0.000000</td>\n",
       "      <td>0.000000</td>\n",
       "    </tr>\n",
       "    <tr>\n",
       "      <th>25%</th>\n",
       "      <td>223.500000</td>\n",
       "      <td>0.000000</td>\n",
       "      <td>2.000000</td>\n",
       "      <td>20.125000</td>\n",
       "      <td>0.000000</td>\n",
       "      <td>0.000000</td>\n",
       "      <td>7.910400</td>\n",
       "    </tr>\n",
       "    <tr>\n",
       "      <th>50%</th>\n",
       "      <td>446.000000</td>\n",
       "      <td>0.000000</td>\n",
       "      <td>3.000000</td>\n",
       "      <td>28.000000</td>\n",
       "      <td>0.000000</td>\n",
       "      <td>0.000000</td>\n",
       "      <td>14.454200</td>\n",
       "    </tr>\n",
       "    <tr>\n",
       "      <th>75%</th>\n",
       "      <td>668.500000</td>\n",
       "      <td>1.000000</td>\n",
       "      <td>3.000000</td>\n",
       "      <td>38.000000</td>\n",
       "      <td>1.000000</td>\n",
       "      <td>0.000000</td>\n",
       "      <td>31.000000</td>\n",
       "    </tr>\n",
       "    <tr>\n",
       "      <th>max</th>\n",
       "      <td>891.000000</td>\n",
       "      <td>1.000000</td>\n",
       "      <td>3.000000</td>\n",
       "      <td>80.000000</td>\n",
       "      <td>8.000000</td>\n",
       "      <td>6.000000</td>\n",
       "      <td>512.329200</td>\n",
       "    </tr>\n",
       "  </tbody>\n",
       "</table>\n",
       "</div>"
      ],
      "text/plain": [
       "       PassengerId    Survived      Pclass         Age       SibSp  \\\n",
       "count   891.000000  891.000000  891.000000  714.000000  891.000000   \n",
       "mean    446.000000    0.383838    2.308642   29.699118    0.523008   \n",
       "std     257.353842    0.486592    0.836071   14.526497    1.102743   \n",
       "min       1.000000    0.000000    1.000000    0.420000    0.000000   \n",
       "25%     223.500000    0.000000    2.000000   20.125000    0.000000   \n",
       "50%     446.000000    0.000000    3.000000   28.000000    0.000000   \n",
       "75%     668.500000    1.000000    3.000000   38.000000    1.000000   \n",
       "max     891.000000    1.000000    3.000000   80.000000    8.000000   \n",
       "\n",
       "            Parch        Fare  \n",
       "count  891.000000  891.000000  \n",
       "mean     0.381594   32.204208  \n",
       "std      0.806057   49.693429  \n",
       "min      0.000000    0.000000  \n",
       "25%      0.000000    7.910400  \n",
       "50%      0.000000   14.454200  \n",
       "75%      0.000000   31.000000  \n",
       "max      6.000000  512.329200  "
      ]
     },
     "execution_count": 59,
     "metadata": {},
     "output_type": "execute_result"
    }
   ],
   "source": [
    "df_train.describe()"
   ]
  },
  {
   "cell_type": "markdown",
   "metadata": {},
   "source": [
    "- Considerações acerca do dataset de treino:\n",
    "\n",
    "Passageiros de classe mais pobres são maioria (média da classe esta em 2,308642)\n",
    "\n",
    "O passageiro mais velho tem 80 anos de idade e a média de idade é de 29 anos\n",
    "\n",
    "A maioria dos passageiros é homem (média de 0,351685)\n",
    "\n",
    "Apenas 38% dos passageiros sobreviveram "
   ]
  },
  {
   "cell_type": "markdown",
   "metadata": {},
   "source": [
    "# 4. Explorando o dataset de teste"
   ]
  },
  {
   "cell_type": "code",
   "execution_count": 60,
   "metadata": {},
   "outputs": [
    {
     "data": {
      "text/html": [
       "<div>\n",
       "<style scoped>\n",
       "    .dataframe tbody tr th:only-of-type {\n",
       "        vertical-align: middle;\n",
       "    }\n",
       "\n",
       "    .dataframe tbody tr th {\n",
       "        vertical-align: top;\n",
       "    }\n",
       "\n",
       "    .dataframe thead th {\n",
       "        text-align: right;\n",
       "    }\n",
       "</style>\n",
       "<table border=\"1\" class=\"dataframe\">\n",
       "  <thead>\n",
       "    <tr style=\"text-align: right;\">\n",
       "      <th></th>\n",
       "      <th>PassengerId</th>\n",
       "      <th>Pclass</th>\n",
       "      <th>Name</th>\n",
       "      <th>Sex</th>\n",
       "      <th>Age</th>\n",
       "      <th>SibSp</th>\n",
       "      <th>Parch</th>\n",
       "      <th>Ticket</th>\n",
       "      <th>Fare</th>\n",
       "      <th>Cabin</th>\n",
       "      <th>Embarked</th>\n",
       "    </tr>\n",
       "  </thead>\n",
       "  <tbody>\n",
       "    <tr>\n",
       "      <th>0</th>\n",
       "      <td>892</td>\n",
       "      <td>3</td>\n",
       "      <td>Kelly, Mr. James</td>\n",
       "      <td>male</td>\n",
       "      <td>34.5</td>\n",
       "      <td>0</td>\n",
       "      <td>0</td>\n",
       "      <td>330911</td>\n",
       "      <td>7.8292</td>\n",
       "      <td>NaN</td>\n",
       "      <td>Q</td>\n",
       "    </tr>\n",
       "    <tr>\n",
       "      <th>1</th>\n",
       "      <td>893</td>\n",
       "      <td>3</td>\n",
       "      <td>Wilkes, Mrs. James (Ellen Needs)</td>\n",
       "      <td>female</td>\n",
       "      <td>47.0</td>\n",
       "      <td>1</td>\n",
       "      <td>0</td>\n",
       "      <td>363272</td>\n",
       "      <td>7.0000</td>\n",
       "      <td>NaN</td>\n",
       "      <td>S</td>\n",
       "    </tr>\n",
       "    <tr>\n",
       "      <th>2</th>\n",
       "      <td>894</td>\n",
       "      <td>2</td>\n",
       "      <td>Myles, Mr. Thomas Francis</td>\n",
       "      <td>male</td>\n",
       "      <td>62.0</td>\n",
       "      <td>0</td>\n",
       "      <td>0</td>\n",
       "      <td>240276</td>\n",
       "      <td>9.6875</td>\n",
       "      <td>NaN</td>\n",
       "      <td>Q</td>\n",
       "    </tr>\n",
       "    <tr>\n",
       "      <th>3</th>\n",
       "      <td>895</td>\n",
       "      <td>3</td>\n",
       "      <td>Wirz, Mr. Albert</td>\n",
       "      <td>male</td>\n",
       "      <td>27.0</td>\n",
       "      <td>0</td>\n",
       "      <td>0</td>\n",
       "      <td>315154</td>\n",
       "      <td>8.6625</td>\n",
       "      <td>NaN</td>\n",
       "      <td>S</td>\n",
       "    </tr>\n",
       "    <tr>\n",
       "      <th>4</th>\n",
       "      <td>896</td>\n",
       "      <td>3</td>\n",
       "      <td>Hirvonen, Mrs. Alexander (Helga E Lindqvist)</td>\n",
       "      <td>female</td>\n",
       "      <td>22.0</td>\n",
       "      <td>1</td>\n",
       "      <td>1</td>\n",
       "      <td>3101298</td>\n",
       "      <td>12.2875</td>\n",
       "      <td>NaN</td>\n",
       "      <td>S</td>\n",
       "    </tr>\n",
       "  </tbody>\n",
       "</table>\n",
       "</div>"
      ],
      "text/plain": [
       "   PassengerId  Pclass                                          Name     Sex  \\\n",
       "0          892       3                              Kelly, Mr. James    male   \n",
       "1          893       3              Wilkes, Mrs. James (Ellen Needs)  female   \n",
       "2          894       2                     Myles, Mr. Thomas Francis    male   \n",
       "3          895       3                              Wirz, Mr. Albert    male   \n",
       "4          896       3  Hirvonen, Mrs. Alexander (Helga E Lindqvist)  female   \n",
       "\n",
       "    Age  SibSp  Parch   Ticket     Fare Cabin Embarked  \n",
       "0  34.5      0      0   330911   7.8292   NaN        Q  \n",
       "1  47.0      1      0   363272   7.0000   NaN        S  \n",
       "2  62.0      0      0   240276   9.6875   NaN        Q  \n",
       "3  27.0      0      0   315154   8.6625   NaN        S  \n",
       "4  22.0      1      1  3101298  12.2875   NaN        S  "
      ]
     },
     "execution_count": 60,
     "metadata": {},
     "output_type": "execute_result"
    }
   ],
   "source": [
    "df_test.head()"
   ]
  },
  {
   "cell_type": "code",
   "execution_count": 61,
   "metadata": {},
   "outputs": [
    {
     "name": "stdout",
     "output_type": "stream",
     "text": [
      "<class 'pandas.core.frame.DataFrame'>\n",
      "RangeIndex: 418 entries, 0 to 417\n",
      "Data columns (total 11 columns):\n",
      " #   Column       Non-Null Count  Dtype  \n",
      "---  ------       --------------  -----  \n",
      " 0   PassengerId  418 non-null    int64  \n",
      " 1   Pclass       418 non-null    int64  \n",
      " 2   Name         418 non-null    object \n",
      " 3   Sex          418 non-null    object \n",
      " 4   Age          332 non-null    float64\n",
      " 5   SibSp        418 non-null    int64  \n",
      " 6   Parch        418 non-null    int64  \n",
      " 7   Ticket       418 non-null    object \n",
      " 8   Fare         417 non-null    float64\n",
      " 9   Cabin        91 non-null     object \n",
      " 10  Embarked     418 non-null    object \n",
      "dtypes: float64(2), int64(4), object(5)\n",
      "memory usage: 36.0+ KB\n"
     ]
    },
    {
     "data": {
      "text/plain": [
       "PassengerId          0\n",
       "Pclass               0\n",
       "Name                 0\n",
       "Sex                  0\n",
       "Age                 86\n",
       "SibSp                0\n",
       "Parch                0\n",
       "Ticket               0\n",
       "Fare                 1\n",
       "Cabin              327\n",
       "Embarked             0\n",
       "PassengerId      int64\n",
       "Pclass           int64\n",
       "Name            object\n",
       "Sex             object\n",
       "Age            float64\n",
       "SibSp            int64\n",
       "Parch            int64\n",
       "Ticket          object\n",
       "Fare           float64\n",
       "Cabin           object\n",
       "Embarked        object\n",
       "dtype: object"
      ]
     },
     "execution_count": 61,
     "metadata": {},
     "output_type": "execute_result"
    }
   ],
   "source": [
    "info1_test = df_test.info()\n",
    "info2_test = df_test.isna().sum()\n",
    "info3_test = df_test.dtypes\n",
    "\n",
    "info = pd.concat([info1_test, info2_test, info3_test])\n",
    "info"
   ]
  },
  {
   "cell_type": "code",
   "execution_count": 62,
   "metadata": {},
   "outputs": [
    {
     "data": {
      "text/html": [
       "<div>\n",
       "<style scoped>\n",
       "    .dataframe tbody tr th:only-of-type {\n",
       "        vertical-align: middle;\n",
       "    }\n",
       "\n",
       "    .dataframe tbody tr th {\n",
       "        vertical-align: top;\n",
       "    }\n",
       "\n",
       "    .dataframe thead th {\n",
       "        text-align: right;\n",
       "    }\n",
       "</style>\n",
       "<table border=\"1\" class=\"dataframe\">\n",
       "  <thead>\n",
       "    <tr style=\"text-align: right;\">\n",
       "      <th></th>\n",
       "      <th>PassengerId</th>\n",
       "      <th>Pclass</th>\n",
       "      <th>Age</th>\n",
       "      <th>SibSp</th>\n",
       "      <th>Parch</th>\n",
       "      <th>Fare</th>\n",
       "    </tr>\n",
       "  </thead>\n",
       "  <tbody>\n",
       "    <tr>\n",
       "      <th>count</th>\n",
       "      <td>418.000000</td>\n",
       "      <td>418.000000</td>\n",
       "      <td>332.000000</td>\n",
       "      <td>418.000000</td>\n",
       "      <td>418.000000</td>\n",
       "      <td>417.000000</td>\n",
       "    </tr>\n",
       "    <tr>\n",
       "      <th>mean</th>\n",
       "      <td>1100.500000</td>\n",
       "      <td>2.265550</td>\n",
       "      <td>30.272590</td>\n",
       "      <td>0.447368</td>\n",
       "      <td>0.392344</td>\n",
       "      <td>35.627188</td>\n",
       "    </tr>\n",
       "    <tr>\n",
       "      <th>std</th>\n",
       "      <td>120.810458</td>\n",
       "      <td>0.841838</td>\n",
       "      <td>14.181209</td>\n",
       "      <td>0.896760</td>\n",
       "      <td>0.981429</td>\n",
       "      <td>55.907576</td>\n",
       "    </tr>\n",
       "    <tr>\n",
       "      <th>min</th>\n",
       "      <td>892.000000</td>\n",
       "      <td>1.000000</td>\n",
       "      <td>0.170000</td>\n",
       "      <td>0.000000</td>\n",
       "      <td>0.000000</td>\n",
       "      <td>0.000000</td>\n",
       "    </tr>\n",
       "    <tr>\n",
       "      <th>25%</th>\n",
       "      <td>996.250000</td>\n",
       "      <td>1.000000</td>\n",
       "      <td>21.000000</td>\n",
       "      <td>0.000000</td>\n",
       "      <td>0.000000</td>\n",
       "      <td>7.895800</td>\n",
       "    </tr>\n",
       "    <tr>\n",
       "      <th>50%</th>\n",
       "      <td>1100.500000</td>\n",
       "      <td>3.000000</td>\n",
       "      <td>27.000000</td>\n",
       "      <td>0.000000</td>\n",
       "      <td>0.000000</td>\n",
       "      <td>14.454200</td>\n",
       "    </tr>\n",
       "    <tr>\n",
       "      <th>75%</th>\n",
       "      <td>1204.750000</td>\n",
       "      <td>3.000000</td>\n",
       "      <td>39.000000</td>\n",
       "      <td>1.000000</td>\n",
       "      <td>0.000000</td>\n",
       "      <td>31.500000</td>\n",
       "    </tr>\n",
       "    <tr>\n",
       "      <th>max</th>\n",
       "      <td>1309.000000</td>\n",
       "      <td>3.000000</td>\n",
       "      <td>76.000000</td>\n",
       "      <td>8.000000</td>\n",
       "      <td>9.000000</td>\n",
       "      <td>512.329200</td>\n",
       "    </tr>\n",
       "  </tbody>\n",
       "</table>\n",
       "</div>"
      ],
      "text/plain": [
       "       PassengerId      Pclass         Age       SibSp       Parch        Fare\n",
       "count   418.000000  418.000000  332.000000  418.000000  418.000000  417.000000\n",
       "mean   1100.500000    2.265550   30.272590    0.447368    0.392344   35.627188\n",
       "std     120.810458    0.841838   14.181209    0.896760    0.981429   55.907576\n",
       "min     892.000000    1.000000    0.170000    0.000000    0.000000    0.000000\n",
       "25%     996.250000    1.000000   21.000000    0.000000    0.000000    7.895800\n",
       "50%    1100.500000    3.000000   27.000000    0.000000    0.000000   14.454200\n",
       "75%    1204.750000    3.000000   39.000000    1.000000    0.000000   31.500000\n",
       "max    1309.000000    3.000000   76.000000    8.000000    9.000000  512.329200"
      ]
     },
     "execution_count": 62,
     "metadata": {},
     "output_type": "execute_result"
    }
   ],
   "source": [
    "df_test.describe()"
   ]
  },
  {
   "cell_type": "markdown",
   "metadata": {},
   "source": [
    "- considerações acerca do dataset de teste:\n",
    "\n",
    "A maioria dos passageiros são de classes mais pobres (média da classe em 2,265550)\n",
    "\n",
    "A maioria dos passageiros são homens (média de 0,36211)\n",
    "\n",
    "O passageiro mais velho tem 76 anos e a média é de 30 anos\n"
   ]
  },
  {
   "cell_type": "markdown",
   "metadata": {},
   "source": [
    "# 5. Tratando o dataset de treino"
   ]
  },
  {
   "cell_type": "markdown",
   "metadata": {},
   "source": [
    "\n",
    "## 5.1 Dummy sexo\n"
   ]
  },
  {
   "cell_type": "code",
   "execution_count": 64,
   "metadata": {},
   "outputs": [],
   "source": [
    "def transformar(valor):\n",
    "    if valor == 'female':\n",
    "        return 1\n",
    "    else:\n",
    "        return 0\n",
    "    \n",
    "df_train['sexo_dummy'] = df_train['Sex'].map(transformar)\n",
    "df_test['sexo_dummy'] = df_test['Sex'].map(transformar)"
   ]
  },
  {
   "cell_type": "code",
   "execution_count": 65,
   "metadata": {},
   "outputs": [
    {
     "data": {
      "text/plain": [
       "(418, 12)"
      ]
     },
     "execution_count": 65,
     "metadata": {},
     "output_type": "execute_result"
    }
   ],
   "source": [
    "df_test.shape"
   ]
  },
  {
   "cell_type": "code",
   "execution_count": 66,
   "metadata": {},
   "outputs": [],
   "source": [
    "df_train = df_train.drop(columns = ['Sex'])\n",
    "df_test = df_test.drop(columns = ['Sex'])"
   ]
  },
  {
   "cell_type": "code",
   "execution_count": 67,
   "metadata": {},
   "outputs": [
    {
     "data": {
      "text/plain": [
       "(418, 11)"
      ]
     },
     "execution_count": 67,
     "metadata": {},
     "output_type": "execute_result"
    }
   ],
   "source": [
    "df_test.shape"
   ]
  },
  {
   "cell_type": "markdown",
   "metadata": {},
   "source": [
    "## 5.2 Identificando e tratando os outliers"
   ]
  },
  {
   "cell_type": "code",
   "execution_count": 68,
   "metadata": {
    "scrolled": true
   },
   "outputs": [
    {
     "data": {
      "text/plain": [
       "['Pclass', 'Age', 'SibSp', 'Parch', 'Fare']"
      ]
     },
     "execution_count": 68,
     "metadata": {},
     "output_type": "execute_result"
    }
   ],
   "source": [
    "# variáveis numéricas:\n",
    "numerical = [var for var in df_train.columns if df_train[var].dtype!='O']\n",
    "numerical = [var for var in numerical if var not in['Survived', 'PassengerId', 'sexo_dummy', 'idade_dummy']]\n",
    "numerical\n",
    "# variaveis numericas continuas: Age e Fare\n",
    "# variaveis numéricas discretas: Pclass, SibSp, Parch"
   ]
  },
  {
   "cell_type": "code",
   "execution_count": 69,
   "metadata": {},
   "outputs": [
    {
     "data": {
      "image/png": "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\n",
      "text/plain": [
       "<Figure size 1584x432 with 5 Axes>"
      ]
     },
     "metadata": {
      "needs_background": "light"
     },
     "output_type": "display_data"
    }
   ],
   "source": [
    "# plotand gráficos de dispersão para as variáveis numéricas\n",
    "plt.figure(figsize=(22,6))\n",
    "idx = 1\n",
    "for i in numerical:\n",
    "    plt.subplot(1,len(numerical),idx)\n",
    "    plt.scatter(df_train[numerical[idx-1]],df_train[numerical[idx-1]].index)\n",
    "    plt.ylabel('Number of passangers')\n",
    "    plt.xlabel(numerical[idx-1])\n",
    "    idx = idx + 1"
   ]
  },
  {
   "cell_type": "code",
   "execution_count": 70,
   "metadata": {},
   "outputs": [
    {
     "data": {
      "image/png": "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\n",
      "text/plain": [
       "<Figure size 1584x432 with 5 Axes>"
      ]
     },
     "metadata": {
      "needs_background": "light"
     },
     "output_type": "display_data"
    }
   ],
   "source": [
    "# plotando o box plot para as variáveis numéricas\n",
    "plt.figure(figsize=(22,6))\n",
    "idx = 1\n",
    "for i in numerical:\n",
    "    plt.subplot(1,len(numerical),idx)\n",
    "    df_train.boxplot(column = numerical[idx-1])\n",
    "    plt.ylabel(numerical[idx-1])\n",
    "    idx=idx+1"
   ]
  },
  {
   "cell_type": "code",
   "execution_count": 71,
   "metadata": {},
   "outputs": [
    {
     "data": {
      "image/png": "iVBORw0KGgoAAAANSUhEUgAAA3sAAAFzCAYAAACHARCnAAAABHNCSVQICAgIfAhkiAAAAAlwSFlzAAALEgAACxIB0t1+/AAAADh0RVh0U29mdHdhcmUAbWF0cGxvdGxpYiB2ZXJzaW9uMy4xLjMsIGh0dHA6Ly9tYXRwbG90bGliLm9yZy+AADFEAAAgAElEQVR4nO3dfZRkdX3n8fdXBnREYeSpM5lBG+PEhzgBsZeg7DEd0ETAADFgMKgDO8l4jqxinN04qOvDmpzgJqjoGnQU45AlIOIDIxCVjJRZd488ig4PEkacwMjI6MqDjYo2fPePum33DN091V11q+69/X6dU6fr3rpV9ekf1XzrO/d3743MRJIkSZLULE8YdABJkiRJUu/Z7EmSJElSA9nsSZIkSVID2exJkiRJUgPZ7EmSJElSA9nsSZIkSVIDLRp0gG4ccMABOTw8PO/nP/zww+y99969C1Qis5anTnnrlBXqlbdOWaFeeXuV9cYbb/xRZh7Yg0gLQrc1Eur1OSubY7Ezx2OSY7Ezx2NSv8ZitvpY62ZveHiYG264Yd7Pb7VajI6O9i5QicxanjrlrVNWqFfeOmWFeuXtVdaI+Pfu0ywc3dZIqNfnrGyOxc4cj0mOxc4cj0n9GovZ6qPTOCVJkiSpgWz2JEmSJKmBbPYkSZIkqYFKa/Yi4pMRsSMibpmybr+IuDoi7ix+Pq1YHxHxoYjYEhHfjojDy8olSZIkSQtBmXv2PgW8fJd164BNmbkC2FQsAxwLrChua4DzS8wlSZIkSY1XWrOXmf8K/HiX1ScCG4r7G4CTpqy/MNu+ASyJiKVlZZMkSZKkpuv3MXtDmbkdoPh5ULF+GXDPlO22FeskSZIkSfNQlevsxTTrctoNI9bQnurJ0NAQrVZr3m86NjbW1fP7yazlqVPeOmWFeuWtU1aoV946ZZUkqUn63ezdFxFLM3N7MU1zR7F+G3DwlO2WA/dO9wKZuR5YDzAyMpLdXKiwThd9NGt56pS3TlmhXnnrlBXqlbdOWSVJapJ+T+PcCKwq7q8CLp+y/nXFWTmPBB6cmO4pSZIkSZq70vbsRcTFwChwQERsA94FnANcGhGrgbuBU4rNrwKOA7YAPwXOKCuXJEmSJC0EpTV7mfnqGR46ZpptEzizrCySJEmStND0exqnJEmSJKkPqnI2TjXQ8Loru36Nrecc34MkkqT52Pz9Bzm9y/+X+/9xSRoc9+xJkiRJUgPZ7EmSJElSA9nsSZIkSVID2exJkiRJUgPZ7EmSJElSA9nsSZIkSVID2exJkiRJUgPZ7EmSJElSA9nsSZIkSVID2exJkiRJUgPZ7EmSJElSA9nsSZIkSVID2exJkiRJUgPZ7EmSJElSA9nsSZIkSVID2exJkiRJUgPZ7EmSJElSA9nsSZIkSVID2exJkiRJUgPZ7EmSJElSA9nsSZIkSVID2exJkiRJUgPZ7EmSJElSA9nsSZIkSVID2exJkiRJUgPZ7EmSJElSA9nsSZIkSVID2exJkiRJUgPZ7EmSJElSA9nsSZIkSVID2exJkjQAEbE1IjZHxM0RcUOxbr+IuDoi7ix+Pq1YHxHxoYjYEhHfjojDB5teklQHNnuSJA3O72XmYZk5UiyvAzZl5gpgU7EMcCyworitAc7ve1JJUu3Y7EmSVB0nAhuK+xuAk6asvzDbvgEsiYilgwgoSaqPRYMOIEnSApXAVyIigY9l5npgKDO3A2Tm9og4qNh2GXDPlOduK9Ztn/qCEbGG9p4/hoaGaLVaXQUcWgxrV4539RrdZqiKsbGxxvwuveB4THIsduZ4TKrCWNjsSZI0GEdl5r1FQ3d1RHxnlm1jmnX5uBXthnE9wMjISI6OjnYV8MMXXc65m7v7qrD1tO4yVEWr1aLb8WwSx2OSY7Ezx2NSFcbCaZySJA1AZt5b/NwBfB44ArhvYnpm8XNHsfk24OApT18O3Nu/tJKkOrLZkySpzyJi74h46sR94PeBW4CNwKpis1XA5cX9jcDrirNyHgk8ODHdU5KkmTiNU5Kk/hsCPh8R0K7F/5SZX4qI64FLI2I1cDdwSrH9VcBxwBbgp8AZ/Y8sSaobmz1JkvosM+8CDp1m/f8DjplmfQJn9iGaJKlBnMYpSZIkSQ3knj1V2vC6K7t+ja3nHN+DJJIkSVK9uGdPkiRJkhrIZk+SJEmSGshmT5IkSZIayGP21Hi7O+5v7cpxTu/g2ECP/ZMkSVKduGdPkiRJkhrIZk+SJEmSGshmT5IkSZIayGZPkiRJkhrIZk+SJEmSGshmT5IkSZIayGZPkiRJkhrIZk+SJEmSGmggzV5E/EVE3BoRt0TExRHxpIg4JCKujYg7I+LTEbHXILJJkiRJUhP0vdmLiGXAm4CRzHw+sAdwKvA+4AOZuQK4H1jd72ySJEmS1BSDmsa5CFgcEYuAJwPbgaOBy4rHNwAnDSibJEmSJNXeon6/YWZ+PyL+Drgb+BnwFeBG4IHMHC822wYsm+75EbEGWAMwNDREq9Wad5axsbGunt9Pdcy6duX47jeugKHFdJS1CuNfp88B1CtvnbJCvfLWKaskSU3S92YvIp4GnAgcAjwAfAY4dppNc7rnZ+Z6YD3AyMhIjo6OzjtLq9Wim+f3Ux2znr7uykFH6cjaleOcu3n3fwpbTxstP8xu1OlzAPXKW6esUK+8dcoqSVKTDGIa50uB72XmDzPzl8DngBcDS4ppnQDLgXsHkE2SJEmSGqHve/ZoT988MiKeTHsa5zHADcA1wMnAJcAq4PIBZFNhuIu9cmtXjtdmr54kSZLUVH3fs5eZ19I+EctNwOYiw3rgrcBbImILsD9wQb+zSZIkSVJTDGLPHpn5LuBdu6y+CzhiAHEkSZIkqXEGdekFSZIkSVKJbPYkSZIkqYFs9iRJkiSpgWz2JEmSJKmBbPYkSZIkqYFs9iRJkiSpgWz2JEmSJKmBbPYkSZIkqYFs9iRJkiSpgWz2JEmSJKmBbPYkSZIkqYFs9iRJkiSpgWz2JEmSJKmBbPYkSZIkqYFs9iRJkiSpgWz2JEmSJKmBFg06gFQXw+uu7Po1tp5zfA+SSJIkSbvnnj1JkiRJaiCbPUmSJElqIJs9SZIkSWogmz1JkiRJaiCbPUmSJElqIJs9SZIkSWogmz1JkgYgIvaIiG9GxBXF8iERcW1E3BkRn46IvYr1TyyWtxSPDw8ytySpPmz2JEkajLOA26csvw/4QGauAO4HVhfrVwP3Z+azgA8U20mStFs2e5Ik9VlELAeOBz5RLAdwNHBZsckG4KTi/onFMsXjxxTbS5I0K5s9SZL674PAXwKPFcv7Aw9k5nixvA1YVtxfBtwDUDz+YLG9JEmzWjToAJIkLSQR8QpgR2beGBGjE6un2TQ7eGzX114DrAEYGhqi1Wp1lXVoMaxdOb77DWfRbYaqGBsba8zv0guOxyTHYmeOx6QqjIXNniRJ/XUUcEJEHAc8CdiH9p6+JRGxqNh7txy4t9h+G3AwsC0iFgH7Aj+e7oUzcz2wHmBkZCRHR0e7Cvrhiy7n3M3dfVXYelp3Gaqi1WrR7Xg2ieMxybHYmeMxqQpj4TROSZL6KDPPzszlmTkMnAp8NTNPA64BTi42WwVcXtzfWCxTPP7VzJx2z54kSVPtttmLiKMiYu/i/msi4v0R8Yzyo0mSVG09rpFvBd4SEVtoH5N3QbH+AmD/Yv1bgHXd5pYkLQyd7Nk7H/hpRBxK+2DyfwcuLDWVJEn10FWNzMxWZr6iuH9XZh6Rmc/KzFMy85Fi/c+L5WcVj99Vxi8iSWqeTpq98WK6yInAeZl5HvDUcmNJklQL1khJUmV1ctT1TyLibOA1wEsiYg9gz3JjSZJUC9ZISVJldbJn70+AR4DVmfkD2tf7+dtSU0mSVA/WSElSZc26Z6/4F8r/lZkvnViXmXfjMXuSpAXOGilJqrpZ9+xl5qO0Dzzft095JEmqBWukJKnqOjlm7+fA5oi4Gnh4YmVmvqm0VJIk1YM1UpJUWZ00e1cWN0mStDNrpCSpsnbb7GXmhohYDDw9M+/oQyZJkmrBGilJqrLdno0zIv4QuBn4UrF8WERsLDuYJElVZ42UJFVZJ5deeDdwBPAAQGbeDBxSYiZJkuri3VgjJUkV1UmzN56ZD+6yLssII0lSzVgjJUmV1ckJWm6JiD8F9oiIFcCbgP9bbixJkmrBGilJqqxO9uy9Efgt4BHgYuAh4M1lhpIkqSaskZKkyurkbJw/Bd5e3CRJUsEaKUmqst02exHxRR5//MGDwA3AxzLz52UEkySp6qyRkqQq62Qa513AGPDx4vYQcB/wm8WyJEkLlTVSklRZnZyg5QWZ+ZIpy1+MiH/NzJdExK1lBZMkqQaskZKkyupkz96BEfH0iYXi/gHF4i9KSSVJUj1YIyVJldXJnr21wNcj4rtA0L5Y7BsiYm9gQ5nhJEmqOGukJKmyOjkb51XFtYOeQ7uQfWfKAecfLDOcJElVZo2UJFVZJ3v2AF4IDBfb/3ZEkJkXlpZKkqT6sEZKkiqpk0sv/CPwG8DNwKPF6gQsZJKkBc0aKUmqsk727I0Az8vMXa8jNG8RsQT4BPB82kXxPwF3AJ+m/a+jW4FXZeb9vXpPSZJK0PMaKUlSr3RyNs5bgF/r8fueB3wpM58DHArcDqwDNmXmCmBTsSxJUpWVUSMlSeqJTvbsHQDcFhHXAY9MrMzME+bzhhGxD/AS4PTidX4B/CIiTgRGi802AC3grfN5D0mS+qSnNVKSpF7qpNl7d4/f85nAD4F/iIhDgRuBs4ChzNwOkJnbI+KgHr+vJEm99u5BB5AkaSadXHrhaxHxDGBFZv5LRDwZ2KPL9zwceGNmXhsR5zGHKZsRsQZYAzA0NESr1Zp3kLGxsa6e30/9zrp25fi8nzu0uLvn91s/83b737BOn1moV946ZYV65a1T1rkqoUZKktQznZyN889pN1f70T7j2DLgo8Ax83zPbcC2zLy2WL6MdrN3X0QsLfbqLQV2TPfkzFwPrAcYGRnJ0dHRecZof/Hu5vn91O+sp6+7ct7PXbtynHM3d3pVj8HrZ96tp4129fw6fWahXnnrlBXqlbdOWeeqhBopSVLPdHKCljOBo4CHADLzTmDeUywz8wfAPRHx7GLVMcBtwEZgVbFuFXD5fN9DkqQ+6WmNlCSplzrZnfFIZv4iIgCIiEW0L5fQjTcCF0XEXsBdwBm0G89LI2I1cDdwSpfvIUlS2cqokZIk9UQnzd7XIuJtwOKIeBnwBuCL3bxpZt5M+9pEu3LaiySpTnpeIyVJ6pVOpnGuo332zM3A64GrgHeUGUqSpJqwRkqSKquTs3E+Bnwc+HhE7Acsz0ynqEiSFjxrpCSpyna7Zy8iWhGxT1HEbqZ9fbz3lx9NkqRqs0ZKkqqsk2mc+2bmQ8ArgX/IzBcCLy03liRJtWCNlCRVVifN3qLiunevAq4oOY8kSXVijZQkVVYnzd5/B74MbMnM6yPimcCd5caSJKkWrJGSpMrq5AQtnwE+M2X5LuCPywwlSVIdWCMlSVXWyQla/kdx8PmeEbEpIn4UEa/pRzhJkqrMGilJqrJOpnH+fnHw+SuAbcBvAv+11FSSJNWDNVKSVFmdNHt7Fj+PAy7OzB+XmEeSpDqxRkqSKmu3x+wBX4yI7wA/A94QEQcCPy83liRJtWCNlCRV1m737GXmOuBFwEhm/hJ4GDix7GCSJFWdNVKSVGWd7NkDWAa8LCKeNGXdhSXkkSSpbqyRkqRK2m2zFxHvAkaB5wFXAccCX8dCJkla4KyRkqQq6+QELScDxwA/yMwzgEOBJ5aaSpKkerBGSpIqq5Nm72eZ+RgwHhH7ADuAZ5YbS5KkWrBGSpIqq5Nm74aIWAJ8HLgRuAm4rtRUkiTVw7xqZEQ8KSKui4hvRcStEfGeYv0hEXFtRNwZEZ+OiL2K9U8slrcUjw+X9ytJkppit8fsZeYbirsfjYgvAftk5rfLjSVJUvV1USMfAY7OzLGI2BP4ekT8M/AW4AOZeUlEfBRYDZxf/Lw/M58VEacC7wP+pOe/kCSpUTrZs0dEvDIi3g+8EfiNciNJklQf86mR2TZWLO5Z3BI4GrisWL8BOKm4f2KxTPH4MRERPYgvSWqwTs7G+ffAs4CLi1Wvj4iXZuaZpSaTJKniuqmREbEH7amfzwI+AnwXeCAzx4tNttG+rAPFz3sAMnM8Ih4E9gd+tMtrrgHWAAwNDdFqteb/ywFDi2HtyvHdbziLbjNUxdjYWGN+l15wPCY5FjtzPCZVYSw6uc7e7wLPz8wEiIgNwOZSU0mSVA/zrpGZ+ShwWHHM3+eB5063WfFzur14+bgVmeuB9QAjIyM5OjraSZQZffiiyzl3c6eX5J3e1tO6y1AVrVaLbsezSRyPSY7FzhyPSVUYi06mcd4BPH3K8sGAx+xJktSDGpmZDwAt4EhgSURMdFfLgXuL+9uK16Z4fF/gx/NOLUlaEDpp9vYHbo+IVkS0gNuAAyNiY0RsLDWdJEnVNq8aGREHFnv0iIjFwEuB24FraF+7D2AVcHlxf2OxTPH4Vyf2JkqSNJNO5ma8s/QUkiTV03xr5FJgQ3Hc3hOASzPzioi4DbgkIv4K+CZwQbH9BcA/RsQW2nv0Tu0ytyRpAejk0gtf60cQSZLqZr41srg8wwumWX8XcMQ0638OnDKf95IkLVwdXXpBkiRJklQvNnuSJEmS1EAzNnsRsan4+b7+xZEkqfqskZKkOpjtmL2lEfG7wAkRcQm7XOMnM28qNZkkSdVljZQkVd5szd47gXW0r/Pz/l0eS+DoskJJklRx1khJUuXN2Oxl5mXAZRHx3zLzvX3MJElSpVkjJUl10MmlF94bEScALylWtTLzinJjSZJUfdZISVKV7fZsnBHxN8BZwG3F7axinSRJC5o1UpJUZbvdswccDxyWmY8BRMQG4JvA2WUGkySpBqyRkqTK6vQ6e0um3N+3jCCSJNWUNVKSVEmd7Nn7G+CbEXEN7VNLvwT/xVKSJLBGSpIqrJMTtFwcES3gP9AuZG/NzB+UHUySpKqzRkqSqqyTPXtk5nZgY8lZJEmqHWukJKmqOj1mT5IkSZJUIzZ7kiRJktRAszZ7EfGEiLilX2EkSaoLa6QkqepmbfaK6wZ9KyKe3qc8kiTVgjVSklR1nZygZSlwa0RcBzw8sTIzTygtldRQw+uu7Or5a1eOM9qbKJJ6wxopSaqsTpq995SeQpKkerJGSpIqq5Pr7H0tIp4BrMjMf4mIJwN7lB9NkqRqs0ZKkqpst2fjjIg/By4DPlasWgZ8ocxQkiTVgTVSklRlnVx64UzgKOAhgMy8EziozFCSJNWENVKSVFmdNHuPZOYvJhYiYhGQ5UWSJKk2rJGSpMrqpNn7WkS8DVgcES8DPgN8sdxYkiTVgjVSklRZnTR764AfApuB1wNXAe8oM5QkSTVhjZQkVVYnZ+N8LCI2ANfSnppyR2Y6RUWStOBZIyVJVbbbZi8ijgc+CnwXCOCQiHh9Zv5z2eEkSaoya6Qkqco6uaj6ucDvZeYWgIj4DeBKwEImSVrorJGSpMrq5Ji9HRNFrHAXsKOkPJIk1Yk1UpJUWTPu2YuIVxZ3b42Iq4BLaR+PcApwfR+ySZJUSdZISVIdzDaN8w+n3L8P+N3i/g+Bp3X7xhGxB3AD8P3MfEVEHAJcAuwH3AS8duq1iyRJqpBSa6QkSb0wY7OXmWeU/N5nAbcD+xTL7wM+kJmXRMRHgdXA+SVnkCRpzvpQIyVJ6lonZ+M8BHgjMDx1+8w8Yb5vGhHLgeOBvwbeEhEBHA38abHJBuDd2OxJkiqsjBopSVKvdHI2zi8AFwBfBB7r0ft+EPhL4KnF8v7AA5k5XixvA5ZN98SIWAOsARgaGqLVas07xNjYGB++6PJ5P3+qlcv27cnrzGRsbKyr33Wu1q4c3/1GMxha3N3z+61OeYcW09fPQbf6/bntRp2yQr3y1inrPJRRIyVJ6olOmr2fZ+aHevWGEfEK2mcvuzEiRidWT7PptBelzcz1wHqAkZGRHB0dnW6zjrRaLc79+sPzfv5UW0+bf45OtFotuvld5+r0dVfO+7lrV45z7uZOPlrVUKe8a1eO86o+fg661e/PbTfqlBXqlbdOWeehpzVSkqRe6uQb7nkR8S7gK8AjEysz86Z5vudRwAkRcRzwJNrH7H0QWBIRi4q9e8uBe+f5+pIk9Uuva6QkST3TSbO3Engt7WPqJqaoZLE8Z5l5NnA2QLFn779k5mkR8RngZNpn5FwF9GZ+pSRJ5elpjZQkqZc6afb+CHhmHy6D8Fbgkoj4K+CbtI+BkCSpyvpVIyVJmrNOmr1vAUuAHb1+88xsAa3i/l3AEb1+D0mSSlRajZQkqVudNHtDwHci4np2Ph7B00pLkhY6a6QkqbI6afbeVXoKSZLqyRopSaqs3TZ7mfm1fgSRJKlurJGSpCrbbbMXET9h8pp3ewF7Ag9n5j5lBpMkqeqskZKkKutkz95Tpy5HxEl4IhVJkqyRkqRKe8Jcn5CZX8DrB0mS9DjWSElSlXQyjfOVUxafAIwwOWVFkqQFyxopSaqyTs7G+YdT7o8DW4ETS0kjSVK9zLlGRsTBwIXArwGPAesz87yI2A/4NDBcvM6rMvP+iAjgPOA44KfA6Zl5U29/DUlSE3VyzN4Z/QgiSVLdzLNGjgNrM/OmiHgqcGNEXA2cDmzKzHMiYh2wDngrcCyworj9DnB+8VOSpFnN2OxFxDtneV5m5ntLyCNJUuV1UyMzczuwvbj/k4i4HVhGe4/gaLHZBqBFu9k7EbgwMxP4RkQsiYilxetIkjSj2fbsPTzNur2B1cD+gM2eNADD664cdIRf2XrO8YOOIA1KT2pkRAwDLwCuBYYmGrjM3B4RBxWbLQPumfK0bcW6xzV7EbEGWAMwNDREq9XqJMaMhhbD2pXjXb1GtxmqYmxsrDG/Sy84HpMci505HpOqMBYzNnuZee7E/WKayVnAGcAlwLkzPU+SpKbrRY2MiKcAnwXenJkPtQ/Nm37T6SLMkGs9sB5gZGQkR0dHO4kyow9fdDnnbu7k8P6ZbT2tuwxV0Wq16HY8m8TxmORY7MzxmFSFsZj10gsRsV9E/BXwbdqN4eGZ+dbM3NGXdJIkVVQ3NTIi9qTd6F2UmZ8rVt8XEUuLx5cCE6+zDTh4ytOXA/f26NeQJDXYjM1eRPwtcD3wE2BlZr47M+/vWzJJkiqqmxpZnF3zAuD2zHz/lIc2AquK+6uAy6esf120HQk86PF6kqROzDY3Yy3wCPAO4O1TppcE7YPP9yk5myRJVdVNjTwKeC2wOSJuLta9DTgHuDQiVgN3A6cUj11F+7ILW2hfesGzZEuSOjLbMXuzTvGUJGmh6qZGZubXmf44PIBjptk+gTPn+36SpIXLhk6SJEmSGshmT5IkSZIayGZPkiRJkhrIZk+SJEmSGshmT5IkSZIayGZPkiRJkhrIZk+SJEmSGmi2i6qrhobXXTnoCJIkSZIqwD17kiRJktRANnuSJEmS1EA2e5IkSZLUQB6zJ0mSStOrY8m3nnN8T15HkhYS9+xJkiRJUgO5Z0/SvO3uX+zXrhzn9N1s47/WS5IklcM9e5IkSZLUQDZ7kiRJktRANnuSJEmS1EA2e5IkSZLUQDZ7kiRJktRANnuSJEmS1EA2e5IkSZLUQDZ7kiRJktRANnuSJEmS1EA2e5IkSZLUQDZ7kiRJktRANnuSJEmS1EA2e5IkSZLUQDZ7kiRJktRANnuSJEmS1EA2e5IkSZLUQDZ7kiRJktRANnuSJEmS1EA2e5IkSZLUQDZ7kiRJktRANnuSJEmS1EA2e5IkSZLUQDZ7kiRJktRANnuSJEmS1EB9b/Yi4uCIuCYibo+IWyPirGL9fhFxdUTcWfx8Wr+zSZIkSVJTDGLP3jiwNjOfCxwJnBkRzwPWAZsycwWwqViWJEmSJM1D35u9zNyemTcV938C3A4sA04ENhSbbQBO6nc2SZIkSWqKRYN884gYBl4AXAsMZeZ2aDeEEXHQDM9ZA6wBGBoaotVqzfv9x8bGWLvy0Xk/f6pucnRibGyso/dYu3K81BydGFpcjRydqlPeOmWFzvKW/bfTqU7/xqqiTnnrlFWSpCYZWLMXEU8BPgu8OTMfioiOnpeZ64H1ACMjIzk6OjrvDK1Wi3O//vC8nz/V1tPmn6MTrVaLTn7X09ddWWqOTqxdOc65mwf67whzUqe8dcoKneUt+2+nU53+jVVFnfLWKaskSU0ykLNxRsSetBu9izLzc8Xq+yJiafH4UmDHILJJkiRJUhMM4mycAVwA3J6Z75/y0EZgVXF/FXB5v7NJkiRJUlMMYj7YUcBrgc0RcXOx7m3AOcClEbEauBs4ZQDZJEmSJKkR+t7sZebXgZkO0Dumn1kkSRqEiPgk8ApgR2Y+v1i3H/BpYBjYCrwqM+8vZsScBxwH/BQ4feKs1pIkzWYgx+xJkrTAfQp4+S7rZrre7LHAiuK2Bji/TxklSTVnsydJUp9l5r8CP95l9UzXmz0RuDDbvgEsmTihmSRJs7HZkySpGna63iwwcb3ZZcA9U7bbVqyTJGlW9blglyRJC9N0x7nntBtGrKE91ZOhoaGuL2Y/tLh9vcwq6PZ36dbY2NjAM1SJ4zHJsdiZ4zGpCmNhsydJUjXcFxFLM3P7Lteb3QYcPGW75cC9071AZq4H1gOMjIxktxez//BFl3Pu5mp8Vdh62uhA37/VatHteDaJ4zHJsdiZ4zGpCmPhNE5JkqphpuvNbgReF21HAg9OTPeUJGk21fjnOkmSFpCIuBgYBQ6IiG3Au5j5erNX0b7swhbal144o++BJUm1ZLMnaaCG113Z9WtsPef4HiSR+iczXz3DQ4+73mxmJnBmuYkkSU3kNE5JkiRJaiCbPUmSJElqIKdxVshs09nWrhzn9B5Md5MkSZK0MLhnT5IkSZIayGZPkiRJkhrIaZw90oszCkqSJElSr7hnT5IkSZIayGZPkiRJkhrIZk+SJEmSGshj9iTVXi+OmV27cpzR7qNIkiRVhnv2JEmSJKmBbPYkSZIkqYFs9iRJkiSpgTxmT5IkVV4vjs3demgZW+QAAAusSURBVM7xPUgiSfXhnj1JkiRJaiD37ElSwT0HkiSpSdyzJ0mSJEkNZLMnSZIkSQ1ksydJkiRJDWSzJ0mSJEkNZLMnSZIkSQ1ksydJkiRJDWSzJ0mSJEkNZLMnSZIkSQ1ksydJkiRJDWSzJ0mSJEkNZLMnSZIkSQ1ksydJkiRJDbRo0AEkSZL6YXjdlfN+7tqV45y+7kq2nnN8DxNJUrncsydJkiRJDWSzJ0mSJEkNZLMnSZIkSQ1ksydJkiRJDWSzJ0mSJEkN5Nk4JaliOjlj4MSZAWfjWQMlSVrY3LMnSZIkSQ1ksydJkiRJDeQ0TknqoW4u2ixJktRL7tmTJEmSpAay2ZMkSZKkBrLZkyRJkqQG8pg9SZKkPurVsb1eXkXS7tjsSZIkdciTMEmqE6dxSpIkSVID2exJkiRJUgM5jVOSJEnz5jGIUnVVqtmLiJcD5wF7AJ/IzHMGHEmSpEqwRkq714vG06ZTTVKZZi8i9gA+ArwM2AZcHxEbM/O2wSaTpHqqyokkPvXyvQcdofaskZKk+ahMswccAWzJzLsAIuIS4ETAQiZJWuiskZJUIZ38g+raleOcvpvtyt6TXKVmbxlwz5TlbcDvDCiLJElVYo3U4zRtymJVZiNITRKZOegMAETEKcAfZOafFcuvBY7IzDfust0aYE2x+Gzgji7e9gDgR108v5/MWp465a1TVqhX3jplhXrl7VXWZ2TmgT14ndoZUI2Een3OyuZY7MzxmORY7MzxmNSvsZixPlZpz9424OApy8uBe3fdKDPXA+t78YYRcUNmjvTitcpm1vLUKW+dskK98tYpK9Qrb52yVljfayT4324qx2Jnjsckx2JnjsekKoxFla6zdz2wIiIOiYi9gFOBjQPOJElSFVgjJUlzVpk9e5k5HhH/Gfgy7dNKfzIzbx1wLEmSBs4aKUmaj8o0ewCZeRVwVR/fsmdTXfrArOWpU946ZYV65a1TVqhX3jplrawB1Ejwv91UjsXOHI9JjsXOHI9JAx+LypygRZIkSZLUO1U6Zk+SJEmS1CMLstmLiJdHxB0RsSUi1g06z64i4pMRsSMibpmybr+IuDoi7ix+Pm2QGSdExMERcU1E3B4Rt0bEWcX6yuWNiCdFxHUR8a0i63uK9YdExLVF1k8XJz+ojIjYIyK+GRFXFMuVzBsRWyNic0TcHBE3FOsq9zmYEBFLIuKyiPhO8fl9URXzRsSzizGduD0UEW+uYtYJEfEXxd/YLRFxcfG3V8nPraZX9TpZhrnU3mj7UDE+346IwweXvPfmWtsXwHjM6ftDRDyxWN5SPD48yPxl6PS7yQIZi46//wzib2XBNXsRsQfwEeBY4HnAqyPieYNN9TifAl6+y7p1wKbMXAFsKparYBxYm5nPBY4EzizGs4p5HwGOzsxDgcOAl0fEkcD7gA8UWe8HVg8w43TOAm6fslzlvL+XmYdNOc1wFT8HE84DvpSZzwEOpT3GlcubmXcUY3oY8ELgp8DnqWBWgIhYBrwJGMnM59M+mcipVPtzqylqUifL8Ck6r73HAiuK2xrg/D5l7Je51vamj8dcvz+sBu7PzGcBHyi2a5pOv5sshLGAzr//9P9vJTMX1A14EfDlKctnA2cPOtc0OYeBW6Ys3wEsLe4vBe4YdMYZcl8OvKzqeYEnAzcBv0P7YpeLpvt8DPpG+1pam4CjgSuAqGpeYCtwwC7rKvk5APYBvkdx3HLV807J9/vA/6lyVmAZcA+wH+2TgF0B/EFVP7fepv1vWIs6WdLv3lHtBT4GvHq67Zp4211tX0jj0cn3B9pnzX1RcX9RsV0MIm9JY9Dxd5Omj0Xxe3X8/WcQfysLbs8ek19EJmwr1lXdUGZuByh+HjTgPI9T7Jp/AXAtFc1bTDu4GdgBXA18F3ggM8eLTar2efgg8JfAY8Xy/lQ3bwJfiYgbI2JNsa6SnwPgmcAPgX8opqF8IiL2prp5J5wKXFzcr2TWzPw+8HfA3cB24EHgRqr7udXj1bVOlmGmv7MFM0Yd1vbGj8ccvz/8ajyKxx+kXb+bYi7fTZo+FjC37z99/1tZiM1eTLPOU5J2KSKeAnwWeHNmPjToPDPJzEezPR1uOXAE8NzpNutvqulFxCuAHZl549TV02xaibzAUZl5OO0pCmdGxEsGHWgWi4DDgfMz8wXAw1RkGuRMiuMfTgA+M+gssymOSzgROAT4dWBv2p+JXVXlc6vHq/L/Z6piQYzRHGp748djjt8fGjse8/hu0tixmGIu33/6Ph4LsdnbBhw8ZXk5cO+AsszFfRGxFKD4uWPAeX4lIvakXQwuyszPFasrmxcgMx8AWrSPRVgSERPXnKzS5+Eo4ISI2ApcQnu6xAepaN7MvLf4uYP2MWVHUN3PwTZgW2ZeWyxfRrv5q2peaBeRmzLzvmK5qllfCnwvM3+Ymb8EPge8mIp+bjWtutbJMsz0d9b4MZpjbW/8eEzo8PvDr8ajeHxf4Mf9TVqauX43afJYAHP+/tP3v5WF2OxdD6wozhq0F+1pURsHnKkTG4FVxf1VtOfPD1xEBHABcHtmvn/KQ5XLGxEHRsSS4v5i2l9KbweuAU4uNqtEVoDMPDszl2fmMO3P6Vcz8zQqmDci9o6Ip07cp31s2S1U8HMAkJk/AO6JiGcXq44BbqOieQuvZnIKJ1Q3693AkRHx5OL/DxNjW7nPrWZU1zpZhpn+zjYCryvOrHck8ODElK0mmEdtb/p4zPX7w9RxOpl2/W7E3qx5fDdp7FjAvL7/9P9vZdAHNQ7iBhwH/Bvt+dZvH3SeafJdTPtYl1/S/heA1bTnN28C7ix+7jfonEXW/0h79/O3gZuL23FVzAv8NvDNIustwDuL9c8ErgO20J4i98RBZ50m+yhwRVXzFpm+Vdxunfi7quLnYErmw4Abis/DF4CnVTUv7RMC/D9g3ynrKpm1yPYe4DvF39k/Ak+s4ufW26z/DStdJ0v6nTuuvbSnYn2kGJ/NtM8+O/DfoYdjMafavgDGY07fH4AnFctbisefOejfoaRx2e13k6aPxVy//wzibyWKN5YkSZIkNchCnMYpSZIkSY1nsydJkiRJDWSzJ0mSJEkNZLMnSZIkSQ1ksydJkiRJDWSzJ1VQRPxRRGREPGfQWSRJGrSIeDQibp5yGx50JqkOvPSCVEERcSmwFNiUme8ecBxJkgYqIsYy8ynzeN4emfloGZmkOnDPnlQxEfEU4CjaF/Q9tVj3hIj4+4i4NSKuiIirIuLk4rEXRsTXIuLGiPhyRCwdYHxJkvoiIoYj4n9HxE3F7cXF+tGIuCYi/on2hauJiNdExHXFXsGPRcQeAw0v9YnNnlQ9JwFfysx/A34cEYcDrwSGgZXAnwEvAoiIPYEPAydn5guBTwJ/PYjQkiSVaPGUKZyfL9btAF6WmYcDfwJ8aMr2RwBvz8znRcRzi8ePyszDgEeB0/oZXhqURYMOIOlxXg18sLh/SbG8J/CZzHwM+EFEXFM8/mzg+cDVEQGwB7C9v3ElSSrdz4pGbao9gf8ZERMN3G9Oeey6zPxecf8Y4IXA9UWtXEy7UZQaz2ZPqpCI2B84Gnh+RCTt5i2Bz8/0FODWzHxRnyJKklQVfwHcBxxKe7baz6c89vCU+wFsyMyz+5hNqgSncUrVcjJwYWY+IzOHM/Ng4HvAj4A/Lo7dGwJGi+3vAA6MiF9N64yI3xpEcEmS+mxfYHsx6+W1tP+BdDqbgJMj4iCAiNgvIp7Rp4zSQNnsSdXyah6/F++zwK8D24BbgI8B1wIPZuYvaDeI74uIbwE3Ay/uX1xJkgbm74FVEfEN2lM4H55uo8y8DXgH8JWI+DZwNe0zXkuN56UXpJqIiKdk5lgx1fM62gea/2DQuSRJklRNHrMn1ccVEbEE2At4r42eJEmSZuOePUmSJElqII/ZkyRJkqQGstmTJEmSpAay2ZMkSZKkBrLZkyRJkqQGstmTJEmSpAay2ZMkSZKkBvr/CfwuzW6ukj0AAAAASUVORK5CYII=\n",
      "text/plain": [
       "<Figure size 1080x432 with 2 Axes>"
      ]
     },
     "metadata": {
      "needs_background": "light"
     },
     "output_type": "display_data"
    }
   ],
   "source": [
    "# checando a distribuição das variaveis continuas para decidir qual método usar para distinguir os outliers\n",
    "plt.figure(figsize=(15,6))\n",
    "plt.subplot(1, 2, 1)\n",
    "fig = df_train.Age.hist(bins=20)\n",
    "fig.set_ylabel('Number of passengers')\n",
    "fig.set_xlabel('Age')\n",
    " \n",
    "plt.subplot(1, 2, 2)\n",
    "fig = df_train.Fare.hist(bins=20)\n",
    "fig.set_ylabel('Number of passengers')\n",
    "fig.set_xlabel('Fare');"
   ]
  },
  {
   "cell_type": "code",
   "execution_count": 72,
   "metadata": {},
   "outputs": [
    {
     "name": "stdout",
     "output_type": "stream",
     "text": [
      "Os limites de outlier para a variável Age são: menor que -13.88037434994331 e maior que 73.27860964406095\n",
      "Os limites de outlier para a variável fare são: menor que -26.724 e maior que 65.6344\n",
      "Os limites de outlier para a variável SibSp são: menor que -1.5 e maior que 2.5\n",
      "Os limites de outlier para a variável Parch são: menor que 0.0 e maior que 0.0\n"
     ]
    }
   ],
   "source": [
    "#encontrando os outliers\n",
    "\n",
    "#idade - variável continua com distibuição ~ de uma normal - construção de um intervalo de confiança para outliers\n",
    "down_limit = df_train['Age'].mean() - 3*df_train['Age'].std()\n",
    "up_limit = df_train['Age'].mean() + 3*df_train['Age'].std()\n",
    "print(f'Os limites de outlier para a variável Age são: menor que {down_limit} e maior que {up_limit}')\n",
    "\n",
    "#passagem - variavel continua com distribuição assimétrica - boxplot para detecção de outliers\n",
    "DIQ = df_train['Fare'].quantile(0.75) - df_train['Fare'].quantile(0.25)\n",
    "down_fence = df_train['Fare'].quantile(0.25) - (DIQ*1.5)\n",
    "up_fence = df_train['Fare'].quantile(0.75) + (DIQ*1.5)\n",
    "print(f'Os limites de outlier para a variável fare são: menor que {down_fence} e maior que {up_fence}')\n",
    "\n",
    "#SibSp - variável numérica discreta - boxplot para detecção de outliers\n",
    "IQR_sib = df_train['SibSp'].quantile(0.75) - df_train['SibSp'].quantile(0.25)\n",
    "down_fence_Sip = df_train['SibSp'].quantile(0.25) - (IQR_sib*1.5)\n",
    "up_fence_Sip = df_train['SibSp'].quantile(0.75) + (IQR_sib*1.5)\n",
    "print(f'Os limites de outlier para a variável SibSp são: menor que {down_fence_Sip} e maior que {up_fence_Sip}')\n",
    "\n",
    "#Parch - variável numérica discreta - boxplot para detecção de outliers\n",
    "IQR_parch = df_train['Parch'].quantile(0.75) - df_train['Parch'].quantile(0.25)\n",
    "down_fence_parch = df_train['Parch'].quantile(0.25) - (IQR_parch*1.5)\n",
    "up_fence_parch = df_train['Parch'].quantile(0.75) + (IQR_parch*1.5)\n",
    "print(f'Os limites de outlier para a variável Parch são: menor que {down_fence_parch} e maior que {up_fence_parch}')"
   ]
  },
  {
   "cell_type": "code",
   "execution_count": 73,
   "metadata": {},
   "outputs": [],
   "source": [
    "# criando as colunas de outliers nos datasets de treino e teste\n",
    "\n",
    "df_train['out_age'] = df_train['Age'].apply(lambda x: 1 if x < down_limit or x > up_limit else 0)\n",
    "df_test['out_age'] = df_test['Age'].apply(lambda x: 1 if x < down_limit or x > up_limit else 0)\n",
    "\n",
    "df_train['out_fare'] = df_train['Fare'].apply(lambda x: 1 if x < down_fence or x > up_fence else 0)\n",
    "df_test['out_fare'] = df_test['Fare'].apply(lambda x: 1 if x < down_fence or x > up_fence else 0)\n",
    "\n",
    "df_train['out_sibsp'] = df_train['SibSp'].apply(lambda x: 1 if x < down_fence_Sip or x > up_fence_Sip else 0)\n",
    "df_test['out_sibsp'] = df_test['SibSp'].apply(lambda x: 1 if x < down_fence_Sip or x > up_fence_Sip else 0)\n",
    "\n",
    "df_train['out_parch'] = df_train['Parch'].apply(lambda x: 1 if x < down_fence_parch or x > up_fence_parch else 0)\n",
    "df_test['out_parch'] = df_test['Parch'].apply(lambda x: 1 if x < down_fence_parch or x > up_fence_parch else 0)"
   ]
  },
  {
   "cell_type": "code",
   "execution_count": 74,
   "metadata": {},
   "outputs": [
    {
     "data": {
      "text/plain": [
       "(418, 15)"
      ]
     },
     "execution_count": 74,
     "metadata": {},
     "output_type": "execute_result"
    }
   ],
   "source": [
    "df_test.shape"
   ]
  },
  {
   "cell_type": "markdown",
   "metadata": {},
   "source": [
    "## 5.3 Preenchendo os valores inexistentes das variáveis default"
   ]
  },
  {
   "cell_type": "code",
   "execution_count": 75,
   "metadata": {},
   "outputs": [],
   "source": [
    "# excluir a coluna cabin se a % de dados faltantes for maior que 75%\n",
    "faltas_cabin = df_train['Cabin'].isna().sum()/len(df_train.index)\n",
    "if faltas_cabin > 0.75:\n",
    "    df_train = df_train.drop(columns = ['Cabin'], axis =1)"
   ]
  },
  {
   "cell_type": "code",
   "execution_count": 76,
   "metadata": {},
   "outputs": [
    {
     "name": "stdout",
     "output_type": "stream",
     "text": [
      "0    S\n",
      "dtype: object\n"
     ]
    }
   ],
   "source": [
    "# preenchendo os Nan da variável idade com zero\n",
    "df_train['Age'] = df_train['Age'].fillna(0)\n",
    "#sinalizando para o modelo as idades faltantes\n",
    "df_train['idade_dummy'] = np.where(df_train['Age'] != 0, 0, 1)\n",
    "# completando a coluna de porto de embarque com a moda\n",
    "print(df_train.Embarked.mode())\n",
    "df_train['Embarked'] = df_train['Embarked'].fillna('S')"
   ]
  },
  {
   "cell_type": "code",
   "execution_count": 77,
   "metadata": {},
   "outputs": [],
   "source": [
    "# excluir a coluna cabin se a % de dados faltantes for maior que 75%\n",
    "faltas_cabin_test = df_test['Cabin'].isna().sum()/len(df_test.index)\n",
    "if faltas_cabin_test > 0.75:\n",
    "    df_test = df_test.drop(columns = ['Cabin'], axis =1)"
   ]
  },
  {
   "cell_type": "code",
   "execution_count": 78,
   "metadata": {},
   "outputs": [
    {
     "name": "stdout",
     "output_type": "stream",
     "text": [
      "0    S\n",
      "dtype: object\n"
     ]
    }
   ],
   "source": [
    "# preenchendo os Nan da variável idade com zero\n",
    "df_test['Age'] = df_test['Age'].fillna(0)\n",
    "# sinalizando para o modelo as idades faltantes\n",
    "df_test['idade_dummy'] = np.where(df_test['Age'] != 0, 0, 1)\n",
    "# preenchendo o único valor faltante de variável Fare\n",
    "df_test['Fare'] = df_test['Fare'].fillna(df_test['Fare'].median())\n",
    "# completando a coluna de porto de embarque com a moda\n",
    "print(df_test.Embarked.mode())\n",
    "df_test['Embarked'] = df_test['Embarked'].fillna('S')"
   ]
  },
  {
   "cell_type": "markdown",
   "metadata": {},
   "source": [
    "## 5.4 Tratando variáveis com números e letras"
   ]
  },
  {
   "cell_type": "code",
   "execution_count": 79,
   "metadata": {},
   "outputs": [],
   "source": [
    "# treino\n",
    "# extraindo a parte numérica- treino \n",
    "df_train['ticket_numerica'] = df_train.Ticket.apply(lambda s: s.split()[-1])\n",
    "df_train['ticket_numerica'] = np.where(df_train.ticket_numerica.str.isdigit(), df_train.ticket_numerica, np.nan)\n",
    "df_train['ticket_numerica'] = df_train['ticket_numerica'].astype('float')\n",
    "# extraindo a parte categorica - treino\n",
    "df_train['ticket_categ'] = df_train.Ticket.apply(lambda s: s.split()[0])\n",
    "df_train['ticket_categ'] = np.where(df_train.ticket_categ.str.isdigit(), np.nan, df_train.ticket_categ)\n",
    "# padronizando a parte categorica - retirando caracteres que não são letras e transformando tudo em maiusculo\n",
    "text = df_train.ticket_categ.apply(lambda x: re.sub(\"[^a-zA-Z]\", '', str(x)))\n",
    "text = text.str.upper()\n",
    "df_train['ticket_categ'] = text\n",
    "\n",
    "# teste\n",
    "# extraindo a parte numérica - teste\n",
    "df_test['ticket_numerica'] = df_test.Ticket.apply(lambda s: s.split()[-1])\n",
    "df_test['ticket_numerica'] = np.where(df_test.ticket_numerica.str.isdigit(), df_test.ticket_numerica, np.nan)\n",
    "df_test['ticket_numerica'] = df_test['ticket_numerica'].astype('float')\n",
    "# extraindo a parte categorica - teste\n",
    "df_test['ticket_categ'] = df_test.Ticket.apply(lambda s: s.split()[0])\n",
    "df_test['ticket_categ'] = np.where(df_test.ticket_categ.str.isdigit(), np.nan, df_test.ticket_categ)\n",
    "# # padronizando a parte categorica - retirando caracteres que não são letras e transformando tudo em maiusculo\n",
    "text2 = df_test.ticket_categ.apply(lambda x: re.sub(\"[^a-zA-Z]\", '', str(x)))\n",
    "text2 = text2.str.upper()\n",
    "df_test['ticket_categ'] = text2"
   ]
  },
  {
   "cell_type": "code",
   "execution_count": 80,
   "metadata": {},
   "outputs": [],
   "source": [
    "df_train = df_train.drop(['Ticket'], axis=1)\n",
    "df_test = df_test.drop(['Ticket'], axis=1)"
   ]
  },
  {
   "cell_type": "markdown",
   "metadata": {},
   "source": [
    "## 5.5 Extraindo os títulos dos nomes"
   ]
  },
  {
   "cell_type": "code",
   "execution_count": 81,
   "metadata": {},
   "outputs": [
    {
     "data": {
      "text/html": [
       "<div>\n",
       "<style scoped>\n",
       "    .dataframe tbody tr th:only-of-type {\n",
       "        vertical-align: middle;\n",
       "    }\n",
       "\n",
       "    .dataframe tbody tr th {\n",
       "        vertical-align: top;\n",
       "    }\n",
       "\n",
       "    .dataframe thead th {\n",
       "        text-align: right;\n",
       "    }\n",
       "</style>\n",
       "<table border=\"1\" class=\"dataframe\">\n",
       "  <thead>\n",
       "    <tr style=\"text-align: right;\">\n",
       "      <th></th>\n",
       "      <th>Name</th>\n",
       "      <th>titulo</th>\n",
       "    </tr>\n",
       "  </thead>\n",
       "  <tbody>\n",
       "    <tr>\n",
       "      <th>0</th>\n",
       "      <td>Braund, Mr. Owen Harris</td>\n",
       "      <td>Mr</td>\n",
       "    </tr>\n",
       "    <tr>\n",
       "      <th>1</th>\n",
       "      <td>Cumings, Mrs. John Bradley (Florence Briggs Th...</td>\n",
       "      <td>Mrs</td>\n",
       "    </tr>\n",
       "    <tr>\n",
       "      <th>2</th>\n",
       "      <td>Heikkinen, Miss. Laina</td>\n",
       "      <td>Miss</td>\n",
       "    </tr>\n",
       "    <tr>\n",
       "      <th>3</th>\n",
       "      <td>Futrelle, Mrs. Jacques Heath (Lily May Peel)</td>\n",
       "      <td>Mrs</td>\n",
       "    </tr>\n",
       "    <tr>\n",
       "      <th>4</th>\n",
       "      <td>Allen, Mr. William Henry</td>\n",
       "      <td>Mr</td>\n",
       "    </tr>\n",
       "  </tbody>\n",
       "</table>\n",
       "</div>"
      ],
      "text/plain": [
       "                                                Name titulo\n",
       "0                            Braund, Mr. Owen Harris     Mr\n",
       "1  Cumings, Mrs. John Bradley (Florence Briggs Th...    Mrs\n",
       "2                             Heikkinen, Miss. Laina   Miss\n",
       "3       Futrelle, Mrs. Jacques Heath (Lily May Peel)    Mrs\n",
       "4                           Allen, Mr. William Henry     Mr"
      ]
     },
     "execution_count": 81,
     "metadata": {},
     "output_type": "execute_result"
    }
   ],
   "source": [
    "def titulo (nome):\n",
    "    line = nome\n",
    "    if re.search('Mrs', line):\n",
    "        return 'Mrs'\n",
    "    elif re.search('Mr', line):\n",
    "        return 'Mr'\n",
    "    elif re.search('Miss', line):\n",
    "        return 'Miss'\n",
    "    elif re.search('Master', line):\n",
    "        return 'Master'\n",
    "    else:\n",
    "        return 'Other'\n",
    "    \n",
    "df_train['titulo'] = df_train['Name'].apply(titulo)\n",
    "df_test['titulo'] = df_test['Name'].apply(titulo)\n",
    "\n",
    "df_train[['Name', 'titulo']].head()"
   ]
  },
  {
   "cell_type": "code",
   "execution_count": 82,
   "metadata": {},
   "outputs": [],
   "source": [
    "# excluindo a coluna nomes\n",
    "df_train = df_train.drop(['Name'], axis=1)\n",
    "df_test = df_test.drop(['Name'], axis =1)"
   ]
  },
  {
   "cell_type": "markdown",
   "metadata": {},
   "source": [
    "## 5.6 Adicionando uma variável tamanho da familia"
   ]
  },
  {
   "cell_type": "code",
   "execution_count": 83,
   "metadata": {},
   "outputs": [],
   "source": [
    "df_train['familia_size'] = df_train['SibSp'] + df_train['Parch']\n",
    "df_test['familia_size'] = df_test['SibSp'] + df_test['Parch']"
   ]
  },
  {
   "cell_type": "markdown",
   "metadata": {},
   "source": [
    "\n",
    "## 5.7 Analisando valores faltantes das novas variáveis e valores raros"
   ]
  },
  {
   "cell_type": "code",
   "execution_count": 84,
   "metadata": {},
   "outputs": [],
   "source": [
    "df_train.isna().sum()\n",
    "df_train['ticket_numerica'] = df_train['ticket_numerica'].fillna(0)"
   ]
  },
  {
   "cell_type": "code",
   "execution_count": 85,
   "metadata": {
    "scrolled": true
   },
   "outputs": [
    {
     "data": {
      "text/plain": [
       "PassengerId        0\n",
       "Survived           0\n",
       "Pclass             0\n",
       "Age                0\n",
       "SibSp              0\n",
       "Parch              0\n",
       "Fare               0\n",
       "Embarked           0\n",
       "sexo_dummy         0\n",
       "out_age            0\n",
       "out_fare           0\n",
       "out_sibsp          0\n",
       "out_parch          0\n",
       "idade_dummy        0\n",
       "ticket_numerica    0\n",
       "ticket_categ       0\n",
       "titulo             0\n",
       "familia_size       0\n",
       "dtype: int64"
      ]
     },
     "execution_count": 85,
     "metadata": {},
     "output_type": "execute_result"
    }
   ],
   "source": [
    "df_train.isna().sum()"
   ]
  },
  {
   "cell_type": "code",
   "execution_count": 86,
   "metadata": {},
   "outputs": [
    {
     "data": {
      "text/plain": [
       "['SOC',\n",
       " 'C',\n",
       " 'FCC',\n",
       " 'LINE',\n",
       " 'WEP',\n",
       " 'SCAH',\n",
       " 'PP',\n",
       " 'SOPP',\n",
       " 'PPP',\n",
       " 'SOTONO',\n",
       " 'SWPP',\n",
       " 'SCA',\n",
       " 'AS',\n",
       " 'SC',\n",
       " 'SP',\n",
       " 'FC',\n",
       " 'CASOTON',\n",
       " 'SOP',\n",
       " 'FA',\n",
       " 'SCOW']"
      ]
     },
     "execution_count": 86,
     "metadata": {},
     "output_type": "execute_result"
    }
   ],
   "source": [
    "freq = df_train.ticket_categ.value_counts()/df_train.ticket_categ.value_counts().sum()\n",
    "df = pd.DataFrame(data=freq)\n",
    "df.reset_index()\n",
    "df = df[df['ticket_categ']<0.01]\n",
    "df['codigo'] = df.index\n",
    "lista1 = df['codigo'].tolist()\n",
    "lista1"
   ]
  },
  {
   "cell_type": "code",
   "execution_count": 87,
   "metadata": {},
   "outputs": [],
   "source": [
    "df_train['ticket_categ'] = df_train['ticket_categ'].apply(lambda x: 'raro' if x in lista1 else x)\n",
    "del freq\n",
    "del lista1\n",
    "del df"
   ]
  },
  {
   "cell_type": "code",
   "execution_count": 88,
   "metadata": {},
   "outputs": [
    {
     "data": {
      "text/plain": [
       "NAN        661\n",
       "PC          60\n",
       "raro        47\n",
       "CA          41\n",
       "A           28\n",
       "STONO       18\n",
       "SOTONOQ     15\n",
       "SCPARIS     11\n",
       "WC          10\n",
       "Name: ticket_categ, dtype: int64"
      ]
     },
     "execution_count": 88,
     "metadata": {},
     "output_type": "execute_result"
    }
   ],
   "source": [
    "df_train['ticket_categ'].value_counts()"
   ]
  },
  {
   "cell_type": "code",
   "execution_count": 89,
   "metadata": {},
   "outputs": [
    {
     "data": {
      "text/plain": [
       "['SOPP',\n",
       " 'FCC',\n",
       " 'C',\n",
       " 'STONO',\n",
       " 'SCA',\n",
       " 'AQ',\n",
       " 'SCAH',\n",
       " 'FC',\n",
       " 'SOC',\n",
       " 'SC',\n",
       " 'LP',\n",
       " 'STONOQ',\n",
       " 'WEP',\n",
       " 'PP',\n",
       " 'SOTONO']"
      ]
     },
     "execution_count": 89,
     "metadata": {},
     "output_type": "execute_result"
    }
   ],
   "source": [
    "freq = df_test.ticket_categ.value_counts()/df_test.ticket_categ.value_counts().sum()\n",
    "df = pd.DataFrame(data=freq)\n",
    "df.reset_index()\n",
    "df = df[df['ticket_categ']<0.01]\n",
    "df['codigo'] = df.index\n",
    "lista1 = df['codigo'].tolist()\n",
    "lista1"
   ]
  },
  {
   "cell_type": "code",
   "execution_count": 90,
   "metadata": {},
   "outputs": [],
   "source": [
    "df_test['ticket_categ'] = df_test['ticket_categ'].apply(lambda x: 'raro' if x in lista1 else x)\n",
    "del freq\n",
    "del lista1\n",
    "del df"
   ]
  },
  {
   "cell_type": "code",
   "execution_count": 91,
   "metadata": {},
   "outputs": [
    {
     "data": {
      "text/plain": [
       "NAN        296\n",
       "PC          32\n",
       "raro        30\n",
       "CA          27\n",
       "A           11\n",
       "SOTONOQ      9\n",
       "SCPARIS      8\n",
       "WC           5\n",
       "Name: ticket_categ, dtype: int64"
      ]
     },
     "execution_count": 91,
     "metadata": {},
     "output_type": "execute_result"
    }
   ],
   "source": [
    "df_test['ticket_categ'].value_counts()"
   ]
  },
  {
   "cell_type": "markdown",
   "metadata": {},
   "source": [
    "## 5.8 Verificando se os datasets contém valores vazios"
   ]
  },
  {
   "cell_type": "code",
   "execution_count": 92,
   "metadata": {},
   "outputs": [
    {
     "data": {
      "text/plain": [
       "PassengerId        0\n",
       "Survived           0\n",
       "Pclass             0\n",
       "Age                0\n",
       "SibSp              0\n",
       "Parch              0\n",
       "Fare               0\n",
       "Embarked           0\n",
       "sexo_dummy         0\n",
       "out_age            0\n",
       "out_fare           0\n",
       "out_sibsp          0\n",
       "out_parch          0\n",
       "idade_dummy        0\n",
       "ticket_numerica    0\n",
       "ticket_categ       0\n",
       "titulo             0\n",
       "familia_size       0\n",
       "dtype: int64"
      ]
     },
     "execution_count": 92,
     "metadata": {},
     "output_type": "execute_result"
    }
   ],
   "source": [
    "df_train.isna().sum()"
   ]
  },
  {
   "cell_type": "code",
   "execution_count": 93,
   "metadata": {},
   "outputs": [
    {
     "data": {
      "text/plain": [
       "PassengerId        0\n",
       "Pclass             0\n",
       "Age                0\n",
       "SibSp              0\n",
       "Parch              0\n",
       "Fare               0\n",
       "Embarked           0\n",
       "sexo_dummy         0\n",
       "out_age            0\n",
       "out_fare           0\n",
       "out_sibsp          0\n",
       "out_parch          0\n",
       "idade_dummy        0\n",
       "ticket_numerica    0\n",
       "ticket_categ       0\n",
       "titulo             0\n",
       "familia_size       0\n",
       "dtype: int64"
      ]
     },
     "execution_count": 93,
     "metadata": {},
     "output_type": "execute_result"
    }
   ],
   "source": [
    "df_test.isna().sum()"
   ]
  },
  {
   "cell_type": "markdown",
   "metadata": {},
   "source": [
    "# 6. Fazer o encode das variáveis categóricas e escalando as numéricas"
   ]
  },
  {
   "cell_type": "markdown",
   "metadata": {},
   "source": [
    "## 6.1 Usando Weight of Evidence - 'WoE' para o encode das variáveis \"object\"\n"
   ]
  },
  {
   "cell_type": "markdown",
   "metadata": {},
   "source": [
    "O método WoE para variáveis categóricas que não tem significado ordinal nos dá uma taxa de ocorrência para a variável com a situação target. No caso do titanic, é transformar as siglas em médias de sobreviventes que tinham aquela caracteristica.\n"
   ]
  },
  {
   "cell_type": "code",
   "execution_count": 94,
   "metadata": {},
   "outputs": [],
   "source": [
    "var_categ = ['Embarked', 'ticket_categ', 'titulo']\n",
    "def encode_categorica(var, target):\n",
    "    order_label = df_train.groupby([var])[target].mean() #calcula a proporção de ocorrencias em cada variavel\n",
    "    \n",
    "    df_train[var] = df_train[var].map(order_label) #substitui a categórica pela proporção\n",
    "    df_test[var] = df_test[var].map(order_label) #substitui a categórica pela proporção\n",
    "\n",
    "for var in var_categ:\n",
    "    encode_categorica(var, 'Survived') # aplica a função em cada variavel categorica para os sobreviventes"
   ]
  },
  {
   "cell_type": "code",
   "execution_count": 95,
   "metadata": {},
   "outputs": [
    {
     "data": {
      "text/plain": [
       "PassengerId          int64\n",
       "Survived             int64\n",
       "Pclass               int64\n",
       "Age                float64\n",
       "SibSp                int64\n",
       "Parch                int64\n",
       "Fare               float64\n",
       "Embarked           float64\n",
       "sexo_dummy           int64\n",
       "out_age              int64\n",
       "out_fare             int64\n",
       "out_sibsp            int64\n",
       "out_parch            int64\n",
       "idade_dummy          int32\n",
       "ticket_numerica    float64\n",
       "ticket_categ       float64\n",
       "titulo             float64\n",
       "familia_size         int64\n",
       "dtype: object"
      ]
     },
     "execution_count": 95,
     "metadata": {},
     "output_type": "execute_result"
    }
   ],
   "source": [
    "df_train.dtypes"
   ]
  },
  {
   "cell_type": "code",
   "execution_count": 96,
   "metadata": {},
   "outputs": [
    {
     "data": {
      "text/plain": [
       "PassengerId          int64\n",
       "Pclass               int64\n",
       "Age                float64\n",
       "SibSp                int64\n",
       "Parch                int64\n",
       "Fare               float64\n",
       "Embarked           float64\n",
       "sexo_dummy           int64\n",
       "out_age              int64\n",
       "out_fare             int64\n",
       "out_sibsp            int64\n",
       "out_parch            int64\n",
       "idade_dummy          int32\n",
       "ticket_numerica    float64\n",
       "ticket_categ       float64\n",
       "titulo             float64\n",
       "familia_size         int64\n",
       "dtype: object"
      ]
     },
     "execution_count": 96,
     "metadata": {},
     "output_type": "execute_result"
    }
   ],
   "source": [
    "df_test.dtypes"
   ]
  },
  {
   "cell_type": "markdown",
   "metadata": {},
   "source": [
    "# 7. Separando o dataset de teste e treino "
   ]
  },
  {
   "cell_type": "code",
   "execution_count": 97,
   "metadata": {},
   "outputs": [],
   "source": [
    "treino_vars = [var for var in df_train.columns if var not in ['PassengerId', 'Survived']]"
   ]
  },
  {
   "cell_type": "code",
   "execution_count": 98,
   "metadata": {},
   "outputs": [],
   "source": [
    "X_train, X_test, y_train, y_test = train_test_split(df_train[treino_vars], df_train['Survived'], test_size=0.20)"
   ]
  },
  {
   "cell_type": "code",
   "execution_count": 99,
   "metadata": {},
   "outputs": [
    {
     "data": {
      "text/plain": [
       "((712, 16), (179, 16), (712,), (179,))"
      ]
     },
     "execution_count": 99,
     "metadata": {},
     "output_type": "execute_result"
    }
   ],
   "source": [
    "X_train.shape, X_test.shape, y_train.shape, y_test.shape"
   ]
  },
  {
   "cell_type": "markdown",
   "metadata": {},
   "source": [
    "## 7.1 Fazendo o Scale"
   ]
  },
  {
   "cell_type": "markdown",
   "metadata": {},
   "source": [
    "O scale é necessário quando se tem variáveis com diferentes magnitudes ou unidades. Como a maioria dos algoritmos usam a distância euclidiana entre dois pontos, essas variações grandes podem ser um problema trazendo maior peso para variáveis com grandes magnitudes. Levando em consideração que no dataset temos variáveis com medidas muito diferentes, sera realizado o scale.\n",
    "\n",
    "Dos quatro métodos mais comuns (Z-score, Normalização pela média, MinMax, Vetor unico) para o scale sera usado o MinMaxScaling que produz valores entre 0 e 1 e não reduz a importância de outliers."
   ]
  },
  {
   "cell_type": "code",
   "execution_count": 100,
   "metadata": {
    "scrolled": true
   },
   "outputs": [
    {
     "data": {
      "text/plain": [
       "MinMaxScaler(copy=True, feature_range=(0, 1))"
      ]
     },
     "execution_count": 100,
     "metadata": {},
     "output_type": "execute_result"
    }
   ],
   "source": [
    "minmax_scaler = preprocessing.MinMaxScaler()\n",
    "minmax_scaler.fit(X_train[treino_vars])"
   ]
  },
  {
   "cell_type": "markdown",
   "metadata": {},
   "source": [
    "# 8. Especificando os modelos"
   ]
  },
  {
   "cell_type": "markdown",
   "metadata": {},
   "source": [
    "## 8.1 Função para todos os modelos"
   ]
  },
  {
   "cell_type": "code",
   "execution_count": 101,
   "metadata": {},
   "outputs": [],
   "source": [
    "def model_builder(pipeline, params, cv, classifier_name, data_split = False):\n",
    "    #cv = StratifiedKFold(n_splits = kfolds)\n",
    "    grid_model = GridSearchCV(pipeline, params, cv = cv, verbose = 0, n_jobs = -1)\n",
    "    grid = grid_model.fit(minmax_scaler.transform(X_train), y_train)\n",
    "    \n",
    "    print('Melhores parametros: ')\n",
    "    print(grid_model.best_params_)\n",
    "    print(' ')\n",
    "    \n",
    "    grid_model = grid_model.best_estimator_\n",
    "    \n",
    "    results = cross_val_score(grid_model,minmax_scaler.transform(X_test),y_test,cv=cv)\n",
    "    y_predict = grid_model.predict(minmax_scaler.transform(X_test))\n",
    "    \n",
    "    print('Accuracy ' + classifier_name)\n",
    "    print('Validação cruzada score: ' + str(round(results.mean(), 6)))\n",
    "    \n",
    "    return results, grid_model"
   ]
  },
  {
   "cell_type": "code",
   "execution_count": 102,
   "metadata": {},
   "outputs": [
    {
     "name": "stdout",
     "output_type": "stream",
     "text": [
      "Melhores parametros: \n",
      "{'logisticregression__C': 1, 'logisticregression__max_iter': 1000, 'logisticregression__solver': 'newton-cg', 'pca__n_components': 10}\n",
      " \n",
      "Accuracy Regressão Logistica\n",
      "Validação cruzada score: 0.848693\n"
     ]
    }
   ],
   "source": [
    "# regressão logistica\n",
    "\n",
    "pipe_log = make_pipeline(PCA(), LogisticRegression())\n",
    "params_log = {\n",
    "    \"pca__n_components\" : [2, 6, 10, 16, 18],\n",
    "    \"logisticregression__C\": [0.001, 0.01, 0.1, 1, 1.1, 10],\n",
    "    \"logisticregression__max_iter\": [1000],\n",
    "    \"logisticregression__solver\" : [\"newton-cg\", \"lbfgs\", \"liblinear\", \"sag\", \"saga\"]}\n",
    "\n",
    "score_log, grid_log = model_builder(pipe_log, params_log, 10, 'Regressão Logistica')"
   ]
  },
  {
   "cell_type": "code",
   "execution_count": 103,
   "metadata": {},
   "outputs": [
    {
     "name": "stdout",
     "output_type": "stream",
     "text": [
      "Melhores parametros: \n",
      "{'pca__n_components': 16, 'svc__C': 2, 'svc__gamma': 0.1}\n",
      " \n",
      "Accuracy SVM\n",
      "Validação cruzada score: 0.848693\n"
     ]
    }
   ],
   "source": [
    "# SVM \n",
    "\n",
    "pipe_svm = make_pipeline(PCA(), SVC())\n",
    "params_svm = {\n",
    "    \"pca__n_components\" : [2, 6, 10, 16],\n",
    "    \"svc__C\" : [0.01, 0.1, 1, 1.1, 2],\n",
    "    \"svc__gamma\" : [0.01, 0.1, 1]}\n",
    "\n",
    "score_svm, grid_svm = model_builder(pipe_svm, params_svm, 10, \"SVM\")"
   ]
  },
  {
   "cell_type": "code",
   "execution_count": 104,
   "metadata": {},
   "outputs": [
    {
     "name": "stdout",
     "output_type": "stream",
     "text": [
      "Melhores parametros: \n",
      "{'kneighborsclassifier__leaf_size': 10, 'kneighborsclassifier__n_neighbors': 14}\n",
      " \n",
      "Accuracy KNN\n",
      "Validação cruzada score: 0.843137\n"
     ]
    }
   ],
   "source": [
    "# KNN\n",
    "\n",
    "pipe_knn = make_pipeline(KNeighborsClassifier())\n",
    "params_knn = {\n",
    "    #\"pca__n_components\" : [2, 6, 10, 18],\n",
    "    \"kneighborsclassifier__n_neighbors\": [3, 5, 7, 9, 10, 12, 14, 16],\n",
    "    \"kneighborsclassifier__leaf_size\": [10, 20, 30, 40]}\n",
    "\n",
    "score_knn, grid_knn = model_builder(pipe_knn, params_knn, 10, \"KNN\")"
   ]
  },
  {
   "cell_type": "code",
   "execution_count": 105,
   "metadata": {},
   "outputs": [
    {
     "name": "stdout",
     "output_type": "stream",
     "text": [
      "Melhores parametros: \n",
      "{'pca__n_components': 10, 'randomforestclassifier__max_depth': 10, 'randomforestclassifier__min_samples_leaf': 5, 'randomforestclassifier__n_estimators': 20}\n",
      " \n",
      "Accuracy Random Forest\n",
      "Validação cruzada score: 0.815359\n"
     ]
    }
   ],
   "source": [
    "# random forest \n",
    "pipe_rf = make_pipeline(PCA(), RandomForestClassifier())\n",
    "params_rf = {\n",
    "    \"pca__n_components\" : [2, 6, 10, 18],\n",
    "    'randomforestclassifier__n_estimators': [10, 20, 50, 100, 200, 300],\n",
    "    'randomforestclassifier__max_depth': [1,2,3,4,5,6,7,8,9,10,11,12,13,14,15,16],\n",
    "    'randomforestclassifier__min_samples_leaf': [2, 5, 3, 7]}\n",
    "\n",
    "score_rf, grid_rf = model_builder(pipe_rf, params_rf, 10, \"Random Forest\")"
   ]
  },
  {
   "cell_type": "code",
   "execution_count": 121,
   "metadata": {},
   "outputs": [
    {
     "name": "stdout",
     "output_type": "stream",
     "text": [
      "Melhores parametros: \n",
      "{'baggingclassifier__max_features': 7, 'baggingclassifier__max_samples': 9, 'baggingclassifier__n_estimators': 100, 'pca__n_components': 10}\n",
      " \n",
      "Accuracy Bagging\n",
      "Validação cruzada score: 0.787255\n"
     ]
    }
   ],
   "source": [
    "# bagging \n",
    "\n",
    "pipe_bag = make_pipeline(PCA(), BaggingClassifier())\n",
    "params_bag = {\n",
    "    \"pca__n_components\" : [2, 6, 10, 18],\n",
    "    'baggingclassifier__n_estimators' : [30, 50, 70, 100],\n",
    "    'baggingclassifier__max_features' : [3, 5, 7, 9],\n",
    "    'baggingclassifier__max_samples' : [3, 5, 7, 9]}\n",
    "\n",
    "score_bag, grid_bag, = model_builder(pipe_bag, params_bag, 10, 'Bagging')"
   ]
  },
  {
   "cell_type": "code",
   "execution_count": null,
   "metadata": {},
   "outputs": [],
   "source": [
    "# stacking\n",
    "\n",
    "estimadores = [('logit', grid_log),\n",
    "              ('SVM', grid_svm),\n",
    "              ('KNN', grid_knn),\n",
    "              ('random forest', grid_rf),\n",
    "              ('bagging', grid_bag)]\n",
    "\n",
    "cv = StratifiedKFold(n_splits = 5)\n",
    "\n",
    "stack =  StackingClassifier(estimators = estimadores, final_estimator=LogisticRegression())\n",
    "stack.fit(minmax_scaler.transform(X_train), y_train);\n",
    "\n",
    "stack_result = cross_val_score(stack,minmax_scaler.transform(X_test),y_test,cv=cv)\n",
    "print('Accuracy Stacking')\n",
    "print('Validação cruzada score: ' + str(round(stack_result.mean(), 6)))"
   ]
  },
  {
   "cell_type": "markdown",
   "metadata": {},
   "source": [
    "## 8.1 Aplicando o modelo de maior acurácia no dataset de teste"
   ]
  },
  {
   "cell_type": "code",
   "execution_count": 108,
   "metadata": {},
   "outputs": [],
   "source": [
    "df_test_sub = df_test.drop(columns=['PassengerId'])"
   ]
  },
  {
   "cell_type": "code",
   "execution_count": 118,
   "metadata": {},
   "outputs": [],
   "source": [
    "y_pred_stack = stack.predict(minmax_scaler.transform(df_test_sub))"
   ]
  },
  {
   "cell_type": "code",
   "execution_count": 119,
   "metadata": {},
   "outputs": [],
   "source": [
    "submission = pd.DataFrame({'PassengerId': df_test['PassengerId'],\n",
    "                          'Survived': y_pred_stack})"
   ]
  },
  {
   "cell_type": "code",
   "execution_count": 120,
   "metadata": {},
   "outputs": [
    {
     "data": {
      "text/html": [
       "<div>\n",
       "<style scoped>\n",
       "    .dataframe tbody tr th:only-of-type {\n",
       "        vertical-align: middle;\n",
       "    }\n",
       "\n",
       "    .dataframe tbody tr th {\n",
       "        vertical-align: top;\n",
       "    }\n",
       "\n",
       "    .dataframe thead th {\n",
       "        text-align: right;\n",
       "    }\n",
       "</style>\n",
       "<table border=\"1\" class=\"dataframe\">\n",
       "  <thead>\n",
       "    <tr style=\"text-align: right;\">\n",
       "      <th></th>\n",
       "      <th>PassengerId</th>\n",
       "      <th>Survived</th>\n",
       "    </tr>\n",
       "  </thead>\n",
       "  <tbody>\n",
       "    <tr>\n",
       "      <th>0</th>\n",
       "      <td>892</td>\n",
       "      <td>0</td>\n",
       "    </tr>\n",
       "    <tr>\n",
       "      <th>1</th>\n",
       "      <td>893</td>\n",
       "      <td>0</td>\n",
       "    </tr>\n",
       "    <tr>\n",
       "      <th>2</th>\n",
       "      <td>894</td>\n",
       "      <td>0</td>\n",
       "    </tr>\n",
       "    <tr>\n",
       "      <th>3</th>\n",
       "      <td>895</td>\n",
       "      <td>0</td>\n",
       "    </tr>\n",
       "    <tr>\n",
       "      <th>4</th>\n",
       "      <td>896</td>\n",
       "      <td>1</td>\n",
       "    </tr>\n",
       "  </tbody>\n",
       "</table>\n",
       "</div>"
      ],
      "text/plain": [
       "   PassengerId  Survived\n",
       "0          892         0\n",
       "1          893         0\n",
       "2          894         0\n",
       "3          895         0\n",
       "4          896         1"
      ]
     },
     "execution_count": 120,
     "metadata": {},
     "output_type": "execute_result"
    }
   ],
   "source": [
    "submission.head()"
   ]
  },
  {
   "cell_type": "code",
   "execution_count": 112,
   "metadata": {},
   "outputs": [
    {
     "data": {
      "text/plain": [
       "(418, 2)"
      ]
     },
     "execution_count": 112,
     "metadata": {},
     "output_type": "execute_result"
    }
   ],
   "source": [
    "submission.shape"
   ]
  },
  {
   "cell_type": "code",
   "execution_count": 113,
   "metadata": {},
   "outputs": [],
   "source": [
    "submission.to_csv(r'C:\\Users\\alana\\notebooks\\desafio 3\\submission.csv', index = False)"
   ]
  },
  {
   "cell_type": "code",
   "execution_count": null,
   "metadata": {},
   "outputs": [],
   "source": []
  }
 ],
 "metadata": {
  "kernelspec": {
   "display_name": "Python 3",
   "language": "python",
   "name": "python3"
  },
  "language_info": {
   "codemirror_mode": {
    "name": "ipython",
    "version": 3
   },
   "file_extension": ".py",
   "mimetype": "text/x-python",
   "name": "python",
   "nbconvert_exporter": "python",
   "pygments_lexer": "ipython3",
   "version": "3.7.6"
  }
 },
 "nbformat": 4,
 "nbformat_minor": 4
}
